{
 "cells": [
  {
   "cell_type": "code",
   "execution_count": null,
   "metadata": {
    "collapsed": false
   },
   "outputs": [],
   "source": [
    "from IPython.display import HTML\n",
    "HTML(filename='/Users/hubatsl/Desktop/SPT/Us/SPT/Python/hide_code.html')"
   ]
  },
  {
   "cell_type": "code",
   "execution_count": null,
   "metadata": {
    "collapsed": false
   },
   "outputs": [],
   "source": [
    "from ipywidgets import interact\n",
    "from matplotlib import pyplot as plt\n",
    "import numpy as np\n",
    "import pandas as pd\n",
    "import os\n",
    "import seaborn as sns\n",
    "import sys\n",
    "import tifffile\n",
    "import time\n",
    "# Add path to python modules\n",
    "sys.path.append(os.getcwd()[0:-7]+'src') \n",
    "from MovieTracks import (DiffusionFitter, OffRateFitter, ParticleFinder)\n",
    "# Plotting becomes part of the notebook\n",
    "%matplotlib inline\n",
    "# File definitions that are machine specific\n",
    "xls_file = '/Users/hubatsl/Desktop/Florent/PAR3_flows/PAR3_flows.xlsx'\n",
    "output_file_name = '/Users/hubatsl/Desktop/Florent/PAR3_flows/PAR3_flows.csv'"
   ]
  },
  {
   "cell_type": "markdown",
   "metadata": {
    "nbpresent": {
     "id": "a0231872-635f-48ff-8df4-5a113fde1afc"
    }
   },
   "source": [
    "# Can we see PAR-3 being advected using SPT during establishment?"
   ]
  },
  {
   "cell_type": "markdown",
   "metadata": {
    "collapsed": true
   },
   "source": [
    "**Run thresholding on movie movieNo, read and write threshold from excel file**"
   ]
  },
  {
   "cell_type": "code",
   "execution_count": null,
   "metadata": {
    "collapsed": false
   },
   "outputs": [],
   "source": [
    "movieNo = 14\n",
    "exec(open(\"calibrate_feature_finder.py\").read())"
   ]
  },
  {
   "cell_type": "markdown",
   "metadata": {
    "collapsed": true
   },
   "source": [
    "**Read time stamps for each movie, write to excel file**"
   ]
  },
  {
   "cell_type": "code",
   "execution_count": null,
   "metadata": {
    "collapsed": false
   },
   "outputs": [],
   "source": [
    "%%capture\n",
    "exec(open('../src/params_to_excel.py').read())"
   ]
  },
  {
   "cell_type": "markdown",
   "metadata": {
    "collapsed": false
   },
   "source": [
    "**Run single particle tracking on all movies specified in SPT.xlsx, use parameters specified in SPT.xlsx. Save trajectories frame for each movie in .csv file.**"
   ]
  },
  {
   "cell_type": "code",
   "execution_count": null,
   "metadata": {
    "collapsed": false
   },
   "outputs": [],
   "source": [
    "for i, path in enumerate(xls_db['Folder']):\n",
    "    interval = xls_db['IntervalReal'][i]\n",
    "    StartFrame = xls_db['StartFrame'][i]\n",
    "    mTL = 40\n",
    "    p = DiffusionFitter(path, xls_db['Threshold'][i],\n",
    "                        minTrackLength=mTL, startFrame=StartFrame)\n",
    "    p.analyze()\n",
    "    p.append_output_to_csv(output_file_name, p.gData())\n",
    "    p.trajectories.to_csv('/'.join(p.stackPath.split('/')[:-1])+'/'+p.stackName+'.csv')"
   ]
  },
  {
   "cell_type": "markdown",
   "metadata": {},
   "source": [
    "**Read in the trajectories frame saved in .csv file for each movie.**"
   ]
  },
  {
   "cell_type": "code",
   "execution_count": null,
   "metadata": {
    "collapsed": false
   },
   "outputs": [],
   "source": [
    "%%capture\n",
    "df_list=[]\n",
    "for i, path in enumerate(xls_db['Folder']):\n",
    "    interval = xls_db['IntervalReal'][i]\n",
    "    StartFrame = xls_db['StartFrame'][i]\n",
    "    mTL = 40\n",
    "    p = DiffusionFitter(path, xls_db['Threshold'][i],\n",
    "                        minTrackLength=mTL, startFrame=StartFrame)\n",
    "    df_list.append(pd.read_csv('/'.join(p.stackPath.split('/')[:-1])+'/'+p.stackName+'.csv'))"
   ]
  },
  {
   "cell_type": "markdown",
   "metadata": {},
   "source": [
    "**Compile list of tracks and their starting and ending x and y positions.**"
   ]
  },
  {
   "cell_type": "code",
   "execution_count": null,
   "metadata": {
    "collapsed": false
   },
   "outputs": [],
   "source": [
    "xdiff = []\n",
    "ydiff = []\n",
    "xmean = []\n",
    "ymean = []\n",
    "xerr = []\n",
    "yerr = []\n",
    "li_length = []\n",
    "early = [0, 1, 3, 4, 6, 7, 9, 10, 12, 13] # Use this for early flows\n",
    "late = [15, 16, 17, 18]\n",
    "early_a_to_l = [0, 1, 6, 7, 12, 13]\n",
    "early_a_to_r = [3, 4, 9, 10]\n",
    "list_to_evaluate = early_a_to_l\n",
    "for i, df in enumerate(df_list):\n",
    "    if i in list_to_evaluate:\n",
    "        li = [df.loc[df.particle==part] for part in df.particle.unique()] \n",
    "        # Filter out the posterior particles, 0 is P left, 1 is A left\n",
    "        if xls_db['Direction'][i] == 0:\n",
    "            li_ant = [ part for part in li if part.x.tolist()[0] <= xls_db['PixelCut'][i]]\n",
    "        elif xls_db['Direction'][i] == 1:\n",
    "            li_ant = [ part for part in li if part.x.tolist()[0] >= xls_db['PixelCut'][i]]\n",
    "        # Get difference between start and end positions in x and y direction\n",
    "        if xls_db['Direction'][i] == 0:\n",
    "            li_xdiff = [-(part.x.tolist()[-1]-part.x.tolist()[0]) for part in li_ant]\n",
    "        elif xls_db['Direction'][i] == 1:\n",
    "            li_xdiff = [part.x.tolist()[-1]-part.x.tolist()[0] for part in li_ant]\n",
    "        li_ydiff = [part.y.tolist()[-1]-part.y.tolist()[0] for part in li_ant]\n",
    "        li_length.append([len(part.y.tolist()) for part in li_ant])\n",
    "        xdiff.append(li_xdiff)\n",
    "        ydiff.append(li_ydiff)\n",
    "        xmean.append(np.mean(li_xdiff))\n",
    "        ymean.append(np.mean(li_ydiff))\n",
    "        xerr.append(np.std(li_xdiff)/len(li_xdiff)**0.5)\n",
    "        yerr.append(np.std(li_ydiff)/len(li_ydiff)**0.5)\n",
    "xdiff_flat = [item for sublist in xdiff for item in sublist]\n",
    "ydiff_flat = [item for sublist in ydiff for item in sublist]"
   ]
  },
  {
   "cell_type": "markdown",
   "metadata": {},
   "source": [
    "**Plot histogram of net movement of each particle in x and y directions.**"
   ]
  },
  {
   "cell_type": "code",
   "execution_count": null,
   "metadata": {
    "collapsed": false
   },
   "outputs": [],
   "source": [
    "plt.hist(ydiff_flat, 30)\n",
    "plt.hist(xdiff_flat, 30)\n",
    "plt.show()"
   ]
  },
  {
   "cell_type": "code",
   "execution_count": null,
   "metadata": {
    "collapsed": true
   },
   "outputs": [],
   "source": []
  }
 ],
 "metadata": {
  "anaconda-cloud": {},
  "celltoolbar": "Raw Cell Format",
  "kernelspec": {
   "display_name": "Python [python3Conda]",
   "language": "python",
   "name": "Python [python3Conda]"
  },
  "language_info": {
   "codemirror_mode": {
    "name": "ipython",
    "version": 3
   },
   "file_extension": ".py",
   "mimetype": "text/x-python",
   "name": "python",
   "nbconvert_exporter": "python",
   "pygments_lexer": "ipython3",
   "version": "3.5.2"
  },
  "nbpresent": {
   "slides": {},
   "themes": {
    "default": "a41f9a71-3b14-46c8-8a57-da66739704d1",
    "theme": {
     "a41f9a71-3b14-46c8-8a57-da66739704d1": {
      "backgrounds": {
       "dc7afa04-bf90-40b1-82a5-726e3cff5267": {
        "background-color": "31af15d2-7e15-44c5-ab5e-e04b16a89eff",
        "id": "dc7afa04-bf90-40b1-82a5-726e3cff5267"
       }
      },
      "id": "a41f9a71-3b14-46c8-8a57-da66739704d1",
      "palette": {
       "19cc588f-0593-49c9-9f4b-e4d7cc113b1c": {
        "id": "19cc588f-0593-49c9-9f4b-e4d7cc113b1c",
        "rgb": [
         252,
         252,
         252
        ]
       },
       "31af15d2-7e15-44c5-ab5e-e04b16a89eff": {
        "id": "31af15d2-7e15-44c5-ab5e-e04b16a89eff",
        "rgb": [
         68,
         68,
         68
        ]
       },
       "50f92c45-a630-455b-aec3-788680ec7410": {
        "id": "50f92c45-a630-455b-aec3-788680ec7410",
        "rgb": [
         197,
         226,
         245
        ]
       },
       "c5cc3653-2ee1-402a-aba2-7caae1da4f6c": {
        "id": "c5cc3653-2ee1-402a-aba2-7caae1da4f6c",
        "rgb": [
         43,
         126,
         184
        ]
       },
       "efa7f048-9acb-414c-8b04-a26811511a21": {
        "id": "efa7f048-9acb-414c-8b04-a26811511a21",
        "rgb": [
         25.118061674008803,
         73.60176211453744,
         107.4819383259912
        ]
       }
      },
      "rules": {
       "a": {
        "color": "19cc588f-0593-49c9-9f4b-e4d7cc113b1c"
       },
       "blockquote": {
        "color": "50f92c45-a630-455b-aec3-788680ec7410",
        "font-size": 3
       },
       "code": {
        "font-family": "Anonymous Pro"
       },
       "h1": {
        "color": "19cc588f-0593-49c9-9f4b-e4d7cc113b1c",
        "font-family": "Merriweather",
        "font-size": 8
       },
       "h2": {
        "color": "19cc588f-0593-49c9-9f4b-e4d7cc113b1c",
        "font-family": "Merriweather",
        "font-size": 6
       },
       "h3": {
        "color": "50f92c45-a630-455b-aec3-788680ec7410",
        "font-family": "Lato",
        "font-size": 5.5
       },
       "h4": {
        "color": "c5cc3653-2ee1-402a-aba2-7caae1da4f6c",
        "font-family": "Lato",
        "font-size": 5
       },
       "h5": {
        "font-family": "Lato"
       },
       "h6": {
        "font-family": "Lato"
       },
       "h7": {
        "font-family": "Lato"
       },
       "li": {
        "color": "50f92c45-a630-455b-aec3-788680ec7410",
        "font-size": 3.25
       },
       "pre": {
        "font-family": "Anonymous Pro",
        "font-size": 4
       }
      },
      "text-base": {
       "color": "19cc588f-0593-49c9-9f4b-e4d7cc113b1c",
       "font-family": "Lato",
       "font-size": 4
      }
     }
    }
   }
  }
 },
 "nbformat": 4,
 "nbformat_minor": 0
}
