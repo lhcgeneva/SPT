{
 "cells": [
  {
   "cell_type": "code",
   "execution_count": null,
   "metadata": {
    "collapsed": false
   },
   "outputs": [],
   "source": [
    "from IPython.display import HTML\n",
    "HTML(filename='/Users/hubatsl/Desktop/SPT/Us/SPT/Python/hide_code.html')"
   ]
  },
  {
   "cell_type": "markdown",
   "metadata": {
    "nbpresent": {
     "id": "a0231872-635f-48ff-8df4-5a113fde1afc"
    }
   },
   "source": [
    "# Test for databank system"
   ]
  },
  {
   "cell_type": "code",
   "execution_count": null,
   "metadata": {
    "collapsed": true
   },
   "outputs": [],
   "source": [
    "from ipywidgets import interact\n",
    "from matplotlib import pyplot as plt\n",
    "import numpy as np\n",
    "import pandas as pd\n",
    "import os\n",
    "import seaborn as sns\n",
    "import sys\n",
    "import tifffile\n",
    "import time\n",
    "# Add path to python modules\n",
    "sys.path.append(os.getcwd()[0:-7]+'src/') \n",
    "from MovieTracks import (DiffusionFitter, OffRateFitter, ParticleFinder)\n",
    "# Plotting becomes part of the notebook\n",
    "%matplotlib inline"
   ]
  },
  {
   "cell_type": "code",
   "execution_count": null,
   "metadata": {
    "collapsed": false
   },
   "outputs": [],
   "source": [
    "o = OffRateFitter('/Users/hubatsl/Desktop/Florent/PAR_3_Cropped/cropT/CONTROL/dmso_E2 meiosis2 15s PERFECT_cropT.tif', 1000, pixelSize=0.120, autoMetaDataExtract=False, timestep=15000)"
   ]
  },
  {
   "cell_type": "markdown",
   "metadata": {
    "collapsed": true
   },
   "source": [
    "**Run thresholding on movie movieNo, read and write threshold from excel file**"
   ]
  },
  {
   "cell_type": "code",
   "execution_count": null,
   "metadata": {
    "collapsed": false
   },
   "outputs": [],
   "source": [
    "xls_file = '/Users/hubatsl/Desktop/Florent/PAR_3_Cropped/FlorentPAR3Clusters.xlsx'\n",
    "xls_db = pd.read_excel(xls_file)\n",
    "movieNo = 0\n",
    "if np.isnan(xls_db['Threshold'][movieNo]):\n",
    "    xls_db.loc[movieNo, 'Threshold']=300\n",
    "thresh = int(xls_db['Threshold'][movieNo])\n",
    "if np.isnan(xls_db['StartFrame'][movieNo]):\n",
    "    xls_db.loc[movieNo, 'StartFrame'] = 0\n",
    "startFrame = int(xls_db.loc[movieNo, 'StartFrame'])\n",
    "\n",
    "def adj_thresh(calibFrame, thresh, startFrame):\n",
    "    calibFrame = int(calibFrame)\n",
    "    thresh = int(thresh)\n",
    "    startFrame = int(startFrame)\n",
    "    o = OffRateFitter(xls_db['Folder'][movieNo], thresh, pixelSize=0.120, startFrame=startFrame, autoMetaDataExtract=False, timestep=15000)\n",
    "    print(xls_db['Folder'][movieNo])\n",
    "    o.plot_calibration(calibrationFrame=calibFrame)\n",
    "    xls_db.loc[movieNo, 'StartFrame'] = startFrame\n",
    "    xls_db.loc[movieNo, 'Threshold'] = thresh\n",
    "    xls_db.to_excel(xls_file)\n",
    "\n",
    "interact(adj_thresh, thresh=str(thresh), calibFrame='200', startFrame=str(startFrame),\n",
    "         __manual=True)"
   ]
  },
  {
   "cell_type": "markdown",
   "metadata": {
    "collapsed": true
   },
   "source": [
    "**Read time stamps for each movie, write to excel file**"
   ]
  },
  {
   "cell_type": "code",
   "execution_count": null,
   "metadata": {
    "collapsed": false
   },
   "outputs": [],
   "source": [
    "p = ParticleFinder('/Users/hubatsl/Desktop/WT_kk1216_E1 PNmig 5s-1.tif', autoMetaDataExtract=False, timestep=1)\n",
    "p.parallel = False\n",
    "p.threshold = 900\n",
    "p.find_feats()\n",
    "p.plot_calibration()\n",
    "plt.hist(p.features['raw_mass'], bins = 20)\n",
    "plt.show()"
   ]
  },
  {
   "cell_type": "code",
   "execution_count": null,
   "metadata": {
    "collapsed": false
   },
   "outputs": [],
   "source": [
    "p = ParticleFinder('/Users/hubatsl/Desktop/WT_kk1216_E1 PNmig 5s_maint.tif', autoMetaDataExtract=False, timestep=1)\n",
    "p.parallel = False\n",
    "p.threshold = 900\n",
    "p.find_feats()\n",
    "p.plot_calibration()\n",
    "plt.hist(p.features['raw_mass'], bins = 20)\n",
    "plt.show()"
   ]
  },
  {
   "cell_type": "code",
   "execution_count": null,
   "metadata": {
    "collapsed": true
   },
   "outputs": [],
   "source": []
  }
 ],
 "metadata": {
  "anaconda-cloud": {},
  "celltoolbar": "Raw Cell Format",
  "kernelspec": {
   "display_name": "Python [python3Conda]",
   "language": "python",
   "name": "Python [python3Conda]"
  },
  "language_info": {
   "codemirror_mode": {
    "name": "ipython",
    "version": 3
   },
   "file_extension": ".py",
   "mimetype": "text/x-python",
   "name": "python",
   "nbconvert_exporter": "python",
   "pygments_lexer": "ipython3",
   "version": "3.5.2"
  },
  "nbpresent": {
   "slides": {},
   "themes": {
    "default": "a41f9a71-3b14-46c8-8a57-da66739704d1",
    "theme": {
     "a41f9a71-3b14-46c8-8a57-da66739704d1": {
      "backgrounds": {
       "dc7afa04-bf90-40b1-82a5-726e3cff5267": {
        "background-color": "31af15d2-7e15-44c5-ab5e-e04b16a89eff",
        "id": "dc7afa04-bf90-40b1-82a5-726e3cff5267"
       }
      },
      "id": "a41f9a71-3b14-46c8-8a57-da66739704d1",
      "palette": {
       "19cc588f-0593-49c9-9f4b-e4d7cc113b1c": {
        "id": "19cc588f-0593-49c9-9f4b-e4d7cc113b1c",
        "rgb": [
         252,
         252,
         252
        ]
       },
       "31af15d2-7e15-44c5-ab5e-e04b16a89eff": {
        "id": "31af15d2-7e15-44c5-ab5e-e04b16a89eff",
        "rgb": [
         68,
         68,
         68
        ]
       },
       "50f92c45-a630-455b-aec3-788680ec7410": {
        "id": "50f92c45-a630-455b-aec3-788680ec7410",
        "rgb": [
         197,
         226,
         245
        ]
       },
       "c5cc3653-2ee1-402a-aba2-7caae1da4f6c": {
        "id": "c5cc3653-2ee1-402a-aba2-7caae1da4f6c",
        "rgb": [
         43,
         126,
         184
        ]
       },
       "efa7f048-9acb-414c-8b04-a26811511a21": {
        "id": "efa7f048-9acb-414c-8b04-a26811511a21",
        "rgb": [
         25.118061674008803,
         73.60176211453744,
         107.4819383259912
        ]
       }
      },
      "rules": {
       "a": {
        "color": "19cc588f-0593-49c9-9f4b-e4d7cc113b1c"
       },
       "blockquote": {
        "color": "50f92c45-a630-455b-aec3-788680ec7410",
        "font-size": 3
       },
       "code": {
        "font-family": "Anonymous Pro"
       },
       "h1": {
        "color": "19cc588f-0593-49c9-9f4b-e4d7cc113b1c",
        "font-family": "Merriweather",
        "font-size": 8
       },
       "h2": {
        "color": "19cc588f-0593-49c9-9f4b-e4d7cc113b1c",
        "font-family": "Merriweather",
        "font-size": 6
       },
       "h3": {
        "color": "50f92c45-a630-455b-aec3-788680ec7410",
        "font-family": "Lato",
        "font-size": 5.5
       },
       "h4": {
        "color": "c5cc3653-2ee1-402a-aba2-7caae1da4f6c",
        "font-family": "Lato",
        "font-size": 5
       },
       "h5": {
        "font-family": "Lato"
       },
       "h6": {
        "font-family": "Lato"
       },
       "h7": {
        "font-family": "Lato"
       },
       "li": {
        "color": "50f92c45-a630-455b-aec3-788680ec7410",
        "font-size": 3.25
       },
       "pre": {
        "font-family": "Anonymous Pro",
        "font-size": 4
       }
      },
      "text-base": {
       "color": "19cc588f-0593-49c9-9f4b-e4d7cc113b1c",
       "font-family": "Lato",
       "font-size": 4
      }
     }
    }
   }
  }
 },
 "nbformat": 4,
 "nbformat_minor": 0
}
