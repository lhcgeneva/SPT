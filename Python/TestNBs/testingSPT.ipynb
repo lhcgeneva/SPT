{
 "cells": [
  {
   "cell_type": "code",
   "execution_count": null,
   "metadata": {
    "collapsed": true
   },
   "outputs": [],
   "source": [
    "from IPython.display import HTML\n",
    "HTML(filename='/Users/hubatsl/Desktop/Code/Python/src/hide_code.html')"
   ]
  },
  {
   "cell_type": "markdown",
   "metadata": {
    "nbpresent": {
     "id": "a0231872-635f-48ff-8df4-5a113fde1afc"
    }
   },
   "source": [
    "# Test for class DiffusionFitter\n",
    "\n",
    "In order to test changes made to particle tracking and off rate fitting this document can serve as a standard. Sample data for diffusion contains PAR-6 measurements. Also compare to Matlab's testing file. Both should give roughly the same outputs."
   ]
  },
  {
   "cell_type": "code",
   "execution_count": null,
   "metadata": {
    "collapsed": true
   },
   "outputs": [],
   "source": [
    "from matplotlib import pyplot as plt\n",
    "import numpy as np\n",
    "import os\n",
    "import time\n",
    "import sys\n",
    "# Add path to python modules\n",
    "sys.path.append(os.path.abspath('..')+'/src/')\n",
    "from MovieTracks import DiffusionFitter, OffRateFitter, ParameterSampler"
   ]
  },
  {
   "cell_type": "code",
   "execution_count": null,
   "metadata": {
    "collapsed": true
   },
   "outputs": [],
   "source": [
    "%qtconsole"
   ]
  },
  {
   "cell_type": "markdown",
   "metadata": {
    "collapsed": true
   },
   "source": [
    "### Testing tracking, fitting, plotting"
   ]
  },
  {
   "cell_type": "markdown",
   "metadata": {},
   "source": [
    "First, we test the particle tracking by running on the folder specified in 'fol'. \n",
    "After creating an instance of DiffusionFitter (d), d.analyze() is run to find features and link tracks."
   ]
  },
  {
   "cell_type": "code",
   "execution_count": null,
   "metadata": {},
   "outputs": [],
   "source": [
    "fol = '/Users/hubatsl/Desktop/Code/sample_data/16_07_20_PAR6_2/fov1_16bit/'\n",
    "d = DiffusionFitter(fol, 300, autoMetaDataExtract=False, featSize=3, link_strat='auto',\n",
    "                    parallel=True, pixelSize=0.120, saveFigs=False, showFigs=False, timestep=0.033)\n",
    "t0 = time.time()\n",
    "d.analyze()\n",
    "t = time.time() - t0\n",
    "print('Test took ' + str(t) + ' seconds, normal time ~23 s.')"
   ]
  },
  {
   "cell_type": "markdown",
   "metadata": {},
   "source": [
    "**Plot calibration of feature finding for one frame (1st frame by default).**"
   ]
  },
  {
   "cell_type": "code",
   "execution_count": null,
   "metadata": {},
   "outputs": [],
   "source": [
    "d.showFigs = True\n",
    "d.plot_calibration()\n",
    "if d.features.size == 571230:\n",
    "    print('Total number of features ' + str(d.features.size) + ', as expected.')\n",
    "else:\n",
    "    print('Total number of features ' + str(d.features.size) + ', not as expected 571230.')"
   ]
  },
  {
   "cell_type": "markdown",
   "metadata": {},
   "source": [
    "**Plot trajectories that are longer than threshold set by user.**"
   ]
  },
  {
   "cell_type": "code",
   "execution_count": null,
   "metadata": {},
   "outputs": [],
   "source": [
    "d.plot_trajectories()\n",
    "if d.trajectories.particle.unique().size == 117:\n",
    "    print('Total number of trajectories ' + str(d.trajectories.particle.unique().size) +\n",
    "          ', as expected.')\n",
    "else:\n",
    "    print('Total number of trajectories ' + str(d.trajectories.particle.unique().size) +\n",
    "          ', not as expected 117.')"
   ]
  },
  {
   "cell_type": "markdown",
   "metadata": {},
   "source": [
    "**Plot mean square displacement over time.**"
   ]
  },
  {
   "cell_type": "code",
   "execution_count": null,
   "metadata": {},
   "outputs": [],
   "source": [
    "#Plot msd for all tracks\n",
    "d.plot_msd()\n",
    "#Plot msd only for part of the tracks\n",
    "f1, ax = plt.subplots()\n",
    "plt.plot(d.im.index, d.im.iloc[:, ::10])\n",
    "plt.xscale('log');\n",
    "plt.yscale('log');\n",
    "plt.show()"
   ]
  },
  {
   "cell_type": "markdown",
   "metadata": {},
   "source": [
    "**Sanity check for individual MSD fits. Splitting into high and low alpha and D.**"
   ]
  },
  {
   "cell_type": "code",
   "execution_count": null,
   "metadata": {},
   "outputs": [],
   "source": [
    "plt.rcParams['figure.figsize'] = (15, 10)\n",
    "ax1 = plt.subplot(121)\n",
    "ax1.title.set_text('MSD of high vs low alpha')\n",
    "ax1.plot(d.im.iloc[:10, ((d.a<1.2)&(d.a>1))], 'b');\n",
    "ax1.plot(d.im.iloc[:10, ((d.a<0.6)&(d.a>0))], 'r');\n",
    "plt.xscale('log');\n",
    "plt.yscale('log');\n",
    "ax2 = plt.subplot(122)\n",
    "ax2.title.set_text('MSD of high vs low D')\n",
    "ax2.plot(d.im.iloc[:10, ((d.D<0.5)&(d.D>0.1))], 'c');\n",
    "ax2.plot(d.im.iloc[:10, ((d.D<0.1)&(d.D>0))], 'm');\n",
    "plt.xscale('log');\n",
    "plt.yscale('log');\n",
    "plt.show()"
   ]
  },
  {
   "cell_type": "code",
   "execution_count": null,
   "metadata": {},
   "outputs": [],
   "source": [
    "plt.rcParams['figure.figsize'] = (15, 5)\n",
    "ax1 = plt.subplot(121)\n",
    "ax1.title.set_text('MSD of high vs low alpha')\n",
    "ax1.plot(d.im.iloc[:10, ((d.a<1.2)&(d.a>1))].mean(axis=1), 'b');\n",
    "ax1.plot(d.im.iloc[:10, ((d.a<0.6)&(d.a>0))].mean(axis=1), 'r');\n",
    "ax2 = plt.subplot(122)\n",
    "ax2.title.set_text('MSD of high vs low D')\n",
    "ax2.plot(d.im.iloc[:10, ((d.D<0.5)&(d.D>0.1))].mean(axis=1), 'c');\n",
    "ax2.plot(d.im.iloc[:10, ((d.D<0.1)&(d.D>0))].mean(axis=1), 'm');\n",
    "plt.show()"
   ]
  },
  {
   "cell_type": "markdown",
   "metadata": {},
   "source": [
    "**Sanity check for individual fits, exemplified for high alphas.**"
   ]
  },
  {
   "cell_type": "code",
   "execution_count": null,
   "metadata": {},
   "outputs": [],
   "source": [
    "plt.rcParams['figure.figsize'] = (8, 7)\n",
    "d_highAlpha=d.im.iloc[:10, ((d.a<1.2)&(d.a>1))]\n",
    "for c in d_highAlpha.columns:\n",
    "    res = np.polyfit(np.log10(d_highAlpha.index), np.log10(d_highAlpha[c]), 1, full=True)\n",
    "    DA = [res[0][0], res[0][1]]\n",
    "    D = 10**DA[1]/4\n",
    "    a = DA[0]\n",
    "    plt.plot(d_highAlpha.index, 4*D*d_highAlpha.index**a, 'b')\n",
    "plt.plot(d.im.index[:10], d.im.iloc[:10, ((d.a<1.2)&(d.a>1))], 'r');\n",
    "plt.show()"
   ]
  },
  {
   "cell_type": "markdown",
   "metadata": {},
   "source": [
    "This shows that there is not the expected difference in average MSD behavior between 'fast' (high D, high $\\alpha$) and 'slow' (low D, low $\\alpha$) particles."
   ]
  },
  {
   "cell_type": "markdown",
   "metadata": {},
   "source": [
    "**Finally, fit $\\langle x \\rangle = 4Dt^\\alpha$ and plot D vs $\\alpha$**"
   ]
  },
  {
   "cell_type": "code",
   "execution_count": null,
   "metadata": {},
   "outputs": [],
   "source": [
    "d.plot_diffusion_vs_alpha()\n",
    "d.D_restricted"
   ]
  },
  {
   "cell_type": "code",
   "execution_count": null,
   "metadata": {},
   "outputs": [],
   "source": [
    "d.plot_diffusion_vs_alpha_verbose()"
   ]
  },
  {
   "cell_type": "code",
   "execution_count": null,
   "metadata": {
    "nbpresent": {
     "id": "3690baef-2a93-40fc-9ca7-68c0f22f691e"
    },
    "scrolled": true
   },
   "outputs": [],
   "source": [
    "if d.D.mean()==0.12002050139512239:\n",
    "    print('Mean d is ' + str(d.D.mean()) + ', as expected.')\n",
    "else:\n",
    "    print('Mean d is ' + str(d.D.mean()) + ', not as expected 0.12002050139512239.')"
   ]
  },
  {
   "cell_type": "code",
   "execution_count": null,
   "metadata": {},
   "outputs": [],
   "source": [
    "part_count = d.trajectories['particle'].value_counts()\n",
    "n, bins, patches = plt.hist(part_count.asobject, range(80, 500, 10))\n",
    "plt.show()"
   ]
  },
  {
   "cell_type": "markdown",
   "metadata": {},
   "source": [
    "**Only analyse frames 101-400, to test startFrame and endFrame.**"
   ]
  },
  {
   "cell_type": "code",
   "execution_count": null,
   "metadata": {},
   "outputs": [],
   "source": [
    "fol = '/Users/hubatsl/Desktop/Code/sample_data/16_07_20_PAR6_2/fov1_16bit/'\n",
    "d_short = DiffusionFitter(fol, 300, autoMetaDataExtract=False, endFrame=401, featSize=3, link_strat='auto',\n",
    "                    parallel=True, pixelSize=0.120, saveFigs=False, showFigs=False, startFrame=101,\n",
    "                    timestep=0.033)\n",
    "d_short.analyze()\n",
    "if ((d_short.D_restricted==0.1940520768268752)&\n",
    "    (len(d_short.trajectories['particle'].unique())==23)):\n",
    "        print('D_restricted and number of trajectories as expected.')\n",
    "else: \n",
    "    print('D_restricted and number of trajectories not as expected.')"
   ]
  },
  {
   "cell_type": "markdown",
   "metadata": {},
   "source": [
    "**Testing make_labelled_movie(), output to self.basepath. Can also be used to check startFrame and endFrame behavior from above by comparing the movies created for d_short and d. Careful, both have the same basepath, so will overwrite each other if run consecutively.**"
   ]
  },
  {
   "cell_type": "markdown",
   "metadata": {},
   "source": [
    "Create movie with one particle centered in the middle, cutting off the frames in the beginning and the end when the particle is not tracked (isolate=True) and for all frames and all particles (isolate=False)."
   ]
  },
  {
   "cell_type": "code",
   "execution_count": null,
   "metadata": {
    "collapsed": true
   },
   "outputs": [],
   "source": [
    "d_short.make_labelled_movie([d_short.trajectories['particle'].unique()[1]], isolate=True)\n",
    "d_short.make_labelled_movie(d_short.trajectories['particle'].unique(), isolate=False)"
   ]
  },
  {
   "cell_type": "code",
   "execution_count": null,
   "metadata": {
    "collapsed": true
   },
   "outputs": [],
   "source": [
    "d.make_labelled_movie([d.trajectories['particle'].unique()[1]], isolate=True)\n",
    "d.make_labelled_movie(d.trajectories['particle'].unique(), isolate=False)"
   ]
  },
  {
   "cell_type": "markdown",
   "metadata": {},
   "source": [
    "**Delete tiff files written to disk at beginning of the test.**"
   ]
  },
  {
   "cell_type": "code",
   "execution_count": null,
   "metadata": {
    "collapsed": true
   },
   "outputs": [],
   "source": [
    "d.delete_images()"
   ]
  },
  {
   "cell_type": "markdown",
   "metadata": {},
   "source": [
    "### Test whether background particles could be picked up as diffusive species."
   ]
  },
  {
   "cell_type": "markdown",
   "metadata": {},
   "source": [
    "**Conclusion:** This really seems to depend on the parameters chosen. For PARs (0.033, no gap, 45% LP) mTL 80 and a threshold that picks up GFP seems to give almost no artefacts. However, dropping minTrackLength to 20 there are a significant number of artefacts which appear at low alphas and Ds."
   ]
  },
  {
   "cell_type": "code",
   "execution_count": null,
   "metadata": {
    "collapsed": true
   },
   "outputs": [],
   "source": [
    "bg80 = DiffusionFitter('/Users/hubatsl/Desktop/Code/sample_data/17_02_03/'+\n",
    "                       'wt_diff_background/1/TIRF_analyse_45p_background.stk',\n",
    "                    1000, parallel=True, pixelSize=0.120, saveFigs=True, showFigs=False,\n",
    "                    autoMetaDataExtract=True, startFrame=0, minTrackLength=80)\n",
    "bg80.plot_calibration(1)\n",
    "bg80.analyze()"
   ]
  },
  {
   "cell_type": "code",
   "execution_count": null,
   "metadata": {
    "collapsed": true
   },
   "outputs": [],
   "source": [
    "bg80.showFigs = True\n",
    "bg80.plot_trajectories()"
   ]
  },
  {
   "cell_type": "code",
   "execution_count": null,
   "metadata": {
    "collapsed": true
   },
   "outputs": [],
   "source": [
    "bg20 = DiffusionFitter('/Users/hubatsl/Desktop/Code/sample_data/17_02_03/'+\n",
    "                       'wt_diff_background/1/TIRF_analyse_45p_background.stk',\n",
    "                    1000, parallel=True, pixelSize=0.120, saveFigs=True, showFigs=False,\n",
    "                    autoMetaDataExtract=True, startFrame=0, minTrackLength=20)\n",
    "bg20.plot_calibration(1)\n",
    "bg20.analyze()"
   ]
  },
  {
   "cell_type": "code",
   "execution_count": null,
   "metadata": {
    "collapsed": true
   },
   "outputs": [],
   "source": [
    "bg20.showFigs = True\n",
    "bg20.plot_trajectories()"
   ]
  },
  {
   "cell_type": "code",
   "execution_count": null,
   "metadata": {
    "collapsed": true
   },
   "outputs": [],
   "source": [
    "bg20.plot_diffusion_vs_alpha()"
   ]
  },
  {
   "cell_type": "markdown",
   "metadata": {},
   "source": [
    "**The above analysis of the fluorescent particles in the media, outside of the embryo, suggest that these particles are not picked up by the algorithm minTrackLength is chosen sufficiently high. Control embryo with actual membrane particles in the same folder see below:**"
   ]
  },
  {
   "cell_type": "code",
   "execution_count": null,
   "metadata": {
    "collapsed": true
   },
   "outputs": [],
   "source": [
    "d80 = DiffusionFitter('/Users/hubatsl/Desktop/Code/sample_data/17_02_03/'+\n",
    "                      'wt_diff_background/1/TIRF_analyse_45p.stk',\n",
    "                      1000, parallel=True, pixelSize=0.120, saveFigs=True, showFigs=False,\n",
    "                      autoMetaDataExtract=True, startFrame=0, minTrackLength=80)\n",
    "d80.plot_calibration(1)\n",
    "d80.analyze()"
   ]
  },
  {
   "cell_type": "code",
   "execution_count": null,
   "metadata": {
    "collapsed": true
   },
   "outputs": [],
   "source": [
    "d80.plot_trajectories()"
   ]
  },
  {
   "cell_type": "code",
   "execution_count": null,
   "metadata": {
    "collapsed": true
   },
   "outputs": [],
   "source": [
    "d80.showFigs = True\n",
    "d80.plot_diffusion_vs_alpha()"
   ]
  },
  {
   "cell_type": "code",
   "execution_count": null,
   "metadata": {
    "collapsed": true
   },
   "outputs": [],
   "source": [
    "d20 = DiffusionFitter('/Users/hubatsl/Desktop/Code/sample_data/17_02_03/'+\n",
    "                      'wt_diff_background/1/TIRF_analyse_45p.stk',\n",
    "                    1000, parallel=True, pixelSize=0.120, saveFigs=True, showFigs=False,\n",
    "                    autoMetaDataExtract=True, startFrame=3500, minTrackLength=20)\n",
    "d20.plot_calibration(1)\n",
    "d20.analyze()"
   ]
  },
  {
   "cell_type": "code",
   "execution_count": null,
   "metadata": {
    "collapsed": true
   },
   "outputs": [],
   "source": [
    "d20.plot_trajectories()"
   ]
  },
  {
   "cell_type": "code",
   "execution_count": null,
   "metadata": {
    "collapsed": true
   },
   "outputs": [],
   "source": [
    "d20.showFigs=True\n",
    "d20.plot_diffusion_vs_alpha()"
   ]
  },
  {
   "cell_type": "code",
   "execution_count": null,
   "metadata": {
    "collapsed": true
   },
   "outputs": [],
   "source": [
    "dN2 = DiffusionFitter('/Volumes/Transcend/SPT/Diffusion/N2_background/17_06_05/plate1_N2_25deg/3/100p.stk',\n",
    "                    2000, minTrackLength=20)\n",
    "dN2.plot_calibration(1)\n",
    "dN2.analyze()"
   ]
  },
  {
   "cell_type": "code",
   "execution_count": null,
   "metadata": {
    "collapsed": true
   },
   "outputs": [],
   "source": [
    "dN2.showFigs=True\n",
    "dN2.plot_diffusion_vs_alpha()"
   ]
  },
  {
   "cell_type": "code",
   "execution_count": null,
   "metadata": {
    "collapsed": true
   },
   "outputs": [],
   "source": [
    "dN2 = DiffusionFitter('/Volumes/Transcend/SPT/Diffusion/N2_background/17_06_05/plate1_N2_25deg/1/100p.stk',\n",
    "                    2000, minTrackLength=20)\n",
    "dN2.plot_calibration(1)\n",
    "dN2.analyze()"
   ]
  },
  {
   "cell_type": "code",
   "execution_count": null,
   "metadata": {
    "collapsed": true
   },
   "outputs": [],
   "source": [
    "dN2.showFigs=True\n",
    "dN2.plot_trajectories()\n",
    "dN2.plot_diffusion_vs_alpha()"
   ]
  },
  {
   "cell_type": "markdown",
   "metadata": {},
   "source": [
    "### Testing ROI filtering and filtering of trajectories by time."
   ]
  },
  {
   "cell_type": "code",
   "execution_count": null,
   "metadata": {
    "collapsed": true
   },
   "outputs": [],
   "source": [
    "%matplotlib notebook\n",
    "d20.def_ROI()"
   ]
  },
  {
   "cell_type": "code",
   "execution_count": null,
   "metadata": {
    "collapsed": true
   },
   "outputs": [],
   "source": [
    "d20.apply_ROI(useAllFeats=True)\n",
    "d20.link_feats(useAllFeats=False)"
   ]
  },
  {
   "cell_type": "code",
   "execution_count": null,
   "metadata": {
    "collapsed": true
   },
   "outputs": [],
   "source": [
    "d20.plot_trajectories()"
   ]
  },
  {
   "cell_type": "code",
   "execution_count": null,
   "metadata": {
    "collapsed": true
   },
   "outputs": [],
   "source": [
    "d20.filt_traj_by_t(3700, 4000)"
   ]
  },
  {
   "cell_type": "code",
   "execution_count": null,
   "metadata": {
    "collapsed": true
   },
   "outputs": [],
   "source": [
    "d20.plot_trajectories()"
   ]
  }
 ],
 "metadata": {
  "anaconda-cloud": {},
  "celltoolbar": "Raw Cell Format",
  "kernelspec": {
   "display_name": "Python 3",
   "language": "python",
   "name": "python3"
  },
  "language_info": {
   "codemirror_mode": {
    "name": "ipython",
    "version": 3
   },
   "file_extension": ".py",
   "mimetype": "text/x-python",
   "name": "python",
   "nbconvert_exporter": "python",
   "pygments_lexer": "ipython3",
   "version": "3.6.0"
  },
  "nbpresent": {
   "slides": {},
   "themes": {
    "default": "a41f9a71-3b14-46c8-8a57-da66739704d1",
    "theme": {
     "a41f9a71-3b14-46c8-8a57-da66739704d1": {
      "backgrounds": {
       "dc7afa04-bf90-40b1-82a5-726e3cff5267": {
        "background-color": "31af15d2-7e15-44c5-ab5e-e04b16a89eff",
        "id": "dc7afa04-bf90-40b1-82a5-726e3cff5267"
       }
      },
      "id": "a41f9a71-3b14-46c8-8a57-da66739704d1",
      "palette": {
       "19cc588f-0593-49c9-9f4b-e4d7cc113b1c": {
        "id": "19cc588f-0593-49c9-9f4b-e4d7cc113b1c",
        "rgb": [
         252,
         252,
         252
        ]
       },
       "31af15d2-7e15-44c5-ab5e-e04b16a89eff": {
        "id": "31af15d2-7e15-44c5-ab5e-e04b16a89eff",
        "rgb": [
         68,
         68,
         68
        ]
       },
       "50f92c45-a630-455b-aec3-788680ec7410": {
        "id": "50f92c45-a630-455b-aec3-788680ec7410",
        "rgb": [
         197,
         226,
         245
        ]
       },
       "c5cc3653-2ee1-402a-aba2-7caae1da4f6c": {
        "id": "c5cc3653-2ee1-402a-aba2-7caae1da4f6c",
        "rgb": [
         43,
         126,
         184
        ]
       },
       "efa7f048-9acb-414c-8b04-a26811511a21": {
        "id": "efa7f048-9acb-414c-8b04-a26811511a21",
        "rgb": [
         25.118061674008803,
         73.60176211453744,
         107.4819383259912
        ]
       }
      },
      "rules": {
       "a": {
        "color": "19cc588f-0593-49c9-9f4b-e4d7cc113b1c"
       },
       "blockquote": {
        "color": "50f92c45-a630-455b-aec3-788680ec7410",
        "font-size": 3
       },
       "code": {
        "font-family": "Anonymous Pro"
       },
       "h1": {
        "color": "19cc588f-0593-49c9-9f4b-e4d7cc113b1c",
        "font-family": "Merriweather",
        "font-size": 8
       },
       "h2": {
        "color": "19cc588f-0593-49c9-9f4b-e4d7cc113b1c",
        "font-family": "Merriweather",
        "font-size": 6
       },
       "h3": {
        "color": "50f92c45-a630-455b-aec3-788680ec7410",
        "font-family": "Lato",
        "font-size": 5.5
       },
       "h4": {
        "color": "c5cc3653-2ee1-402a-aba2-7caae1da4f6c",
        "font-family": "Lato",
        "font-size": 5
       },
       "h5": {
        "font-family": "Lato"
       },
       "h6": {
        "font-family": "Lato"
       },
       "h7": {
        "font-family": "Lato"
       },
       "li": {
        "color": "50f92c45-a630-455b-aec3-788680ec7410",
        "font-size": 3.25
       },
       "pre": {
        "font-family": "Anonymous Pro",
        "font-size": 4
       }
      },
      "text-base": {
       "color": "19cc588f-0593-49c9-9f4b-e4d7cc113b1c",
       "font-family": "Lato",
       "font-size": 4
      }
     }
    }
   }
  }
 },
 "nbformat": 4,
 "nbformat_minor": 2
}
