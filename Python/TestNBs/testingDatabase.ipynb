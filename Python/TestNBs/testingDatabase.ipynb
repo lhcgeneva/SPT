{
 "cells": [
  {
   "cell_type": "code",
   "execution_count": null,
   "metadata": {
    "collapsed": false
   },
   "outputs": [],
   "source": [
    "from IPython.display import HTML\n",
    "HTML(filename='/Users/hubatsl/Desktop/SPT/Us/SPT/Python/hide_code.html')"
   ]
  },
  {
   "cell_type": "markdown",
   "metadata": {
    "nbpresent": {
     "id": "a0231872-635f-48ff-8df4-5a113fde1afc"
    }
   },
   "source": [
    "# Test for databank system"
   ]
  },
  {
   "cell_type": "code",
   "execution_count": null,
   "metadata": {
    "collapsed": false
   },
   "outputs": [],
   "source": [
    "from ipywidgets import interact, IntSlider\n",
    "from matplotlib import pyplot as plt\n",
    "import numpy as np\n",
    "import pandas as pd\n",
    "import os\n",
    "import sys\n",
    "import tifffile\n",
    "import time\n",
    "# Add path to python modules\n",
    "sys.path.append(os.getcwd()[0:-7]+'src/') \n",
    "from MovieTracks import (DiffusionFitter, OffRateFitter, ParameterSampler,\n",
    "                        ParticleFinder)\n",
    "# Plotting becomes part of the notebook\n",
    "%matplotlib inline"
   ]
  },
  {
   "cell_type": "markdown",
   "metadata": {
    "collapsed": true
   },
   "source": [
    "**Run thresholding on movie movieNo, read and write threshold from excel file**"
   ]
  },
  {
   "cell_type": "code",
   "execution_count": null,
   "metadata": {
    "collapsed": false
   },
   "outputs": [],
   "source": [
    "exc = pd.read_excel('~/Desktop/SPT.xlsx')\n",
    "df_init = pd.read_excel('~/Desktop/SPT_input_params.xlsx')\n",
    "movieNo = 0\n",
    "if np.isnan(df_init['Threshold'][movieNo]):\n",
    "    df_init['Threshold'][movieNo]=300\n",
    "thresh_widget = IntSlider(min=100, max=5000, step=50,\n",
    "                          value=df_init['Threshold'][movieNo])\n",
    "calibrationFrame_widget = IntSlider(min=1, max=500, step=1)\n",
    "    \n",
    "def adj_thresh(thresh, calibFrame):\n",
    "    print(exc['Folder'][movieNo])\n",
    "    o = OffRateFitter(exc['Folder'][movieNo], thresh, pixelSize=0.120)\n",
    "    o.plot_calibration(calibrationFrame=calibFrame)\n",
    "    df_init.loc[movieNo, 'Threshold'] = thresh\n",
    "    df_init.to_excel('/Users/hubatsl/Desktop/SPT_input_params.xlsx')\n",
    "    \n",
    "interact(adj_thresh, thresh=thresh_widget, \n",
    "         calibFrame=calibrationFrame_widget,\n",
    "         continuous_update=False)"
   ]
  },
  {
   "cell_type": "markdown",
   "metadata": {
    "collapsed": true
   },
   "source": [
    "**Read time stamps for each movie, write to excel file**"
   ]
  },
  {
   "cell_type": "code",
   "execution_count": null,
   "metadata": {
    "collapsed": true
   },
   "outputs": [],
   "source": [
    "df_init['IntervalReal']='nan'\n",
    "df_init['ExposureReal']='nan'\n",
    "for i, path in enumerate(exc['Folder']):\n",
    "    p = ParticleFinder(path)\n",
    "    df_init['IntervalReal'][i]=p.timestep\n",
    "    df_init['ExposureReal'][i]=p.exposure\n",
    "df_init.to_excel('/Users/hubatsl/Desktop/SPT_input_params.xlsx')"
   ]
  },
  {
   "cell_type": "markdown",
   "metadata": {
    "collapsed": false
   },
   "source": [
    "**Run single particle tracking on all movies specified in SPT_input_params.xlsx**\n",
    "\n",
    "Minimum track length is set either to (8x0.033)/interval frames (so the minimum time one particle is tracked is 2.64 s) or to 20 frames, depending which number is smaller."
   ]
  },
  {
   "cell_type": "code",
   "execution_count": null,
   "metadata": {
    "collapsed": true
   },
   "outputs": [],
   "source": [
    "df_init = pd.read_excel('/Users/hubatsl/Desktop/SPT_input_params.xlsx')"
   ]
  },
  {
   "cell_type": "code",
   "execution_count": null,
   "metadata": {
    "collapsed": false
   },
   "outputs": [],
   "source": [
    "for i, path in enumerate(df_init['Folder']):\n",
    "    interval = df_init['IntervalReal'][i]\n",
    "    if 2.64/interval<20: mTL = 20\n",
    "    else: mTL = 2.64/interval\n",
    "    p = DiffusionFitter(path, df_init['Threshold'][i],\n",
    "                        minTrackLength=mTL)\n",
    "    p.analyze()\n",
    "    p.save_output()\n",
    "    p.save_summary_input()"
   ]
  },
  {
   "cell_type": "markdown",
   "metadata": {},
   "source": [
    "**Run single particle tracking for ith movie in file**"
   ]
  },
  {
   "cell_type": "code",
   "execution_count": null,
   "metadata": {
    "collapsed": false
   },
   "outputs": [],
   "source": [
    "i = 18\n",
    "path = df_init['Folder'][i]\n",
    "interval = df_init['IntervalReal'][i]\n",
    "if 2.64/interval<20: mTL = 20\n",
    "else: mTL = 2.64/interval\n",
    "p = DiffusionFitter(path, df_init['Threshold'][i],\n",
    "                        minTrackLength=mTL, startFrame=200)\n",
    "p.plot_calibration()\n",
    "p.analyze()\n",
    "p.save_output()\n",
    "p.save_summary_input()"
   ]
  },
  {
   "cell_type": "markdown",
   "metadata": {},
   "source": [
    "**Plotting all different D vs alpha in one plot**"
   ]
  },
  {
   "cell_type": "code",
   "execution_count": null,
   "metadata": {
    "collapsed": false
   },
   "outputs": [],
   "source": [
    "df_list = []\n",
    "for i, folder in enumerate(exc['Folder']):\n",
    "    df_list.append(pd.read_csv(folder+'Particle_D_a.csv'))\n",
    "\n",
    "%matplotlib qt\n",
    "\n",
    "f=plt.figure()\n",
    "sm100 = [df_list[x] for x in range(len(exc['Folder'])) \n",
    "       if df_init['IntervalReal'][x]<0.1 ]\n",
    "sm100 = pd.concat(sm100)\n",
    "sm200 = [df_list[x] for x in range(len(exc['Folder'])) \n",
    "       if df_init['IntervalReal'][x]<0.2 and df_init['IntervalReal'][x]>0.1]\n",
    "sm200 = pd.concat(sm200)\n",
    "sm400 = [df_list[x] for x in range(len(exc['Folder'])) \n",
    "       if df_init['IntervalReal'][x]<0.4  and df_init['IntervalReal'][x]>0.2]\n",
    "sm400 = pd.concat(sm400)\n",
    "sm600 = [df_list[x] for x in range(len(exc['Folder'])) \n",
    "       if df_init['IntervalReal'][x]<0.6  and df_init['IntervalReal'][x]>0.4]\n",
    "sm600 = pd.concat(sm600)\n",
    "sm2000= [df_list[x] for x in range(len(exc['Folder'])) \n",
    "       if df_init['IntervalReal'][x]>0.6 ]\n",
    "sm2000 = pd.concat(sm2000)\n",
    "plt.plot(sm100.a, sm100.D, 'b.')\n",
    "plt.plot(sm200.a, sm200.D, 'r.')\n",
    "plt.plot(sm400.a, sm400.D, 'y.')\n",
    "plt.plot(sm600.a, sm600.D, 'm.')\n",
    "plt.plot(sm2000.a, sm2000.D, 'k.')\n",
    "plt.xlabel('alpha')\n",
    "plt.ylabel('D [mu^2/s]')\n",
    "\n",
    "import pylab as p\n",
    "\n",
    "plt.figure()\n",
    "\n",
    "y,binEdges=np.histogram(sm100.a,bins=20, normed=True)\n",
    "bincenters = 0.5*(binEdges[1:]+binEdges[:-1])\n",
    "p.plot(bincenters,y, 'b-', label='<100ms')\n",
    "print(np.mean(y))\n",
    "print(np.std(y))\n",
    "y,binEdges=np.histogram(sm200.a,bins=20, normed=True)\n",
    "bincenters = 0.5*(binEdges[1:]+binEdges[:-1])\n",
    "p.plot(bincenters,y,'r-', label='<200ms')\n",
    "\n",
    "y,binEdges=np.histogram(sm400.a,bins=20, normed=True)\n",
    "bincenters = 0.5*(binEdges[1:]+binEdges[:-1])\n",
    "p.plot(bincenters,y,'y-', label='<400ms')\n",
    "\n",
    "y,binEdges=np.histogram(sm600.a,bins=20, normed=True)\n",
    "bincenters = 0.5*(binEdges[1:]+binEdges[:-1])\n",
    "p.plot(bincenters,y,'m-', label='<600ms')\n",
    "\n",
    "y,binEdges=np.histogram(sm2000.a,bins=20, normed=True)\n",
    "bincenters = 0.5*(binEdges[1:]+binEdges[:-1])\n",
    "p.plot(bincenters,y,'k-', label='>600ms')\n",
    "\n",
    "p.xlabel('alpha')\n",
    "p.ylabel('normalized counts')\n",
    "legend = p.legend(loc='upper right', shadow=True)\n",
    "p.show()"
   ]
  },
  {
   "cell_type": "code",
   "execution_count": null,
   "metadata": {
    "collapsed": false
   },
   "outputs": [],
   "source": [
    "df_list = []\n",
    "for i, folder in enumerate(exc['Folder']):\n",
    "    df_list.append(pd.read_csv(folder+'Particle_D_a_secondhalf.csv'))\n",
    "\n",
    "%matplotlib qt\n",
    "\n",
    "f=plt.figure()\n",
    "sm100 = [df_list[x] for x in range(len(exc['Folder'])) \n",
    "       if df_init['IntervalReal'][x]<0.1 ]\n",
    "sm100 = pd.concat(sm100)\n",
    "sm200 = [df_list[x] for x in range(len(exc['Folder'])) \n",
    "       if df_init['IntervalReal'][x]<0.2 and df_init['IntervalReal'][x]>0.1]\n",
    "sm200 = pd.concat(sm200)\n",
    "sm400 = [df_list[x] for x in range(len(exc['Folder'])) \n",
    "       if df_init['IntervalReal'][x]<0.4  and df_init['IntervalReal'][x]>0.2]\n",
    "sm400 = pd.concat(sm400)\n",
    "sm600 = [df_list[x] for x in range(len(exc['Folder'])) \n",
    "       if df_init['IntervalReal'][x]<0.6  and df_init['IntervalReal'][x]>0.4]\n",
    "sm600 = pd.concat(sm600)\n",
    "sm2000= [df_list[x] for x in range(len(exc['Folder'])) \n",
    "       if df_init['IntervalReal'][x]>0.6 ]\n",
    "sm2000 = pd.concat(sm2000)\n",
    "plt.plot(sm100.a, sm100.D, 'b.')\n",
    "plt.plot(sm200.a, sm200.D, 'r.')\n",
    "plt.plot(sm400.a, sm400.D, 'y.')\n",
    "plt.plot(sm600.a, sm600.D, 'm.')\n",
    "plt.plot(sm2000.a, sm2000.D, 'k.')\n",
    "plt.xlabel('alpha')\n",
    "plt.ylabel('D [mu^2/s]')\n",
    "\n",
    "import pylab as p\n",
    "\n",
    "plt.figure()\n",
    "\n",
    "y,binEdges=np.histogram(sm100.a,bins=20, normed=True)\n",
    "bincenters = 0.5*(binEdges[1:]+binEdges[:-1])\n",
    "p.plot(bincenters,y, 'b-', label='<100ms')\n",
    "print(np.mean(y))\n",
    "print(np.std(y))\n",
    "y,binEdges=np.histogram(sm200.a,bins=20, normed=True)\n",
    "bincenters = 0.5*(binEdges[1:]+binEdges[:-1])\n",
    "p.plot(bincenters,y,'r-', label='<200ms')\n",
    "\n",
    "y,binEdges=np.histogram(sm400.a,bins=20, normed=True)\n",
    "bincenters = 0.5*(binEdges[1:]+binEdges[:-1])\n",
    "p.plot(bincenters,y,'y-', label='<400ms')\n",
    "\n",
    "y,binEdges=np.histogram(sm600.a,bins=20, normed=True)\n",
    "bincenters = 0.5*(binEdges[1:]+binEdges[:-1])\n",
    "p.plot(bincenters,y,'m-', label='<600ms')\n",
    "\n",
    "y,binEdges=np.histogram(sm2000.a,bins=20, normed=True)\n",
    "bincenters = 0.5*(binEdges[1:]+binEdges[:-1]) \n",
    "p.plot(bincenters,y,'k-', label='>600ms')\n",
    "\n",
    "p.xlabel('alpha')\n",
    "p.ylabel('normalized counts')\n",
    "legend = p.legend(loc='upper right', shadow=True)\n",
    "p.show()"
   ]
  },
  {
   "cell_type": "code",
   "execution_count": null,
   "metadata": {
    "collapsed": false
   },
   "outputs": [],
   "source": [
    "t = numpy.arange(0.033, 100, 0.033)\n",
    "msd_sub = 4*0.15*t**0.8\n",
    "msd_super = 4*0.15*t**1.2\n",
    "msd_nor = 4*0.15*t**1\n",
    "plt.figure()\n",
    "plt.plot(t, msd_sub)\n",
    "plt.plot(t, msd_super)\n",
    "plt.plot(t, msd_nor)\n",
    "plt.xlabel('t')\n",
    "plt.ylabel('msd')\n",
    "ax = plt.gca()\n",
    "# ax.set_xscale('log')\n",
    "# ax.set_yscale('log')\n",
    "plt.show()\n"
   ]
  }
 ],
 "metadata": {
  "anaconda-cloud": {},
  "celltoolbar": "Raw Cell Format",
  "kernelspec": {
   "display_name": "Python [python3Conda]",
   "language": "python",
   "name": "Python [python3Conda]"
  },
  "language_info": {
   "codemirror_mode": {
    "name": "ipython",
    "version": 3
   },
   "file_extension": ".py",
   "mimetype": "text/x-python",
   "name": "python",
   "nbconvert_exporter": "python",
   "pygments_lexer": "ipython3",
   "version": "3.5.2"
  },
  "nbpresent": {
   "slides": {},
   "themes": {
    "default": "a41f9a71-3b14-46c8-8a57-da66739704d1",
    "theme": {
     "a41f9a71-3b14-46c8-8a57-da66739704d1": {
      "backgrounds": {
       "dc7afa04-bf90-40b1-82a5-726e3cff5267": {
        "background-color": "31af15d2-7e15-44c5-ab5e-e04b16a89eff",
        "id": "dc7afa04-bf90-40b1-82a5-726e3cff5267"
       }
      },
      "id": "a41f9a71-3b14-46c8-8a57-da66739704d1",
      "palette": {
       "19cc588f-0593-49c9-9f4b-e4d7cc113b1c": {
        "id": "19cc588f-0593-49c9-9f4b-e4d7cc113b1c",
        "rgb": [
         252,
         252,
         252
        ]
       },
       "31af15d2-7e15-44c5-ab5e-e04b16a89eff": {
        "id": "31af15d2-7e15-44c5-ab5e-e04b16a89eff",
        "rgb": [
         68,
         68,
         68
        ]
       },
       "50f92c45-a630-455b-aec3-788680ec7410": {
        "id": "50f92c45-a630-455b-aec3-788680ec7410",
        "rgb": [
         197,
         226,
         245
        ]
       },
       "c5cc3653-2ee1-402a-aba2-7caae1da4f6c": {
        "id": "c5cc3653-2ee1-402a-aba2-7caae1da4f6c",
        "rgb": [
         43,
         126,
         184
        ]
       },
       "efa7f048-9acb-414c-8b04-a26811511a21": {
        "id": "efa7f048-9acb-414c-8b04-a26811511a21",
        "rgb": [
         25.118061674008803,
         73.60176211453744,
         107.4819383259912
        ]
       }
      },
      "rules": {
       "a": {
        "color": "19cc588f-0593-49c9-9f4b-e4d7cc113b1c"
       },
       "blockquote": {
        "color": "50f92c45-a630-455b-aec3-788680ec7410",
        "font-size": 3
       },
       "code": {
        "font-family": "Anonymous Pro"
       },
       "h1": {
        "color": "19cc588f-0593-49c9-9f4b-e4d7cc113b1c",
        "font-family": "Merriweather",
        "font-size": 8
       },
       "h2": {
        "color": "19cc588f-0593-49c9-9f4b-e4d7cc113b1c",
        "font-family": "Merriweather",
        "font-size": 6
       },
       "h3": {
        "color": "50f92c45-a630-455b-aec3-788680ec7410",
        "font-family": "Lato",
        "font-size": 5.5
       },
       "h4": {
        "color": "c5cc3653-2ee1-402a-aba2-7caae1da4f6c",
        "font-family": "Lato",
        "font-size": 5
       },
       "h5": {
        "font-family": "Lato"
       },
       "h6": {
        "font-family": "Lato"
       },
       "h7": {
        "font-family": "Lato"
       },
       "li": {
        "color": "50f92c45-a630-455b-aec3-788680ec7410",
        "font-size": 3.25
       },
       "pre": {
        "font-family": "Anonymous Pro",
        "font-size": 4
       }
      },
      "text-base": {
       "color": "19cc588f-0593-49c9-9f4b-e4d7cc113b1c",
       "font-family": "Lato",
       "font-size": 4
      }
     }
    }
   }
  }
 },
 "nbformat": 4,
 "nbformat_minor": 0
}
