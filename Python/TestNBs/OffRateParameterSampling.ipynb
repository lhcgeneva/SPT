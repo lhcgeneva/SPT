{
 "cells": [
  {
   "cell_type": "code",
   "execution_count": 1,
   "metadata": {
    "collapsed": false
   },
   "outputs": [
    {
     "data": {
      "text/html": [
       "<script>\n",
       "  function code_toggle() {\n",
       "    if (code_shown){\n",
       "      $('div.input').hide('500');\n",
       "      $('#toggleButton').val('Show Code')\n",
       "    } else {\n",
       "      $('div.input').show('500');\n",
       "      $('#toggleButton').val('Hide Code')\n",
       "    }\n",
       "    code_shown = !code_shown\n",
       "  }\n",
       "\n",
       "  $( document ).ready(function(){\n",
       "    code_shown=false;\n",
       "    $('div.input').hide()\n",
       "  });\n",
       "</script>\n",
       "<form action=\"javascript:code_toggle()\"><input type=\"submit\" id=\"toggleButton\" value=\"Show Code\"></form>\n",
       "<script>\n",
       "  $(document).ready(function(){\n",
       "    $('div.prompt').hide();\n",
       "    $('div.back-to-top').hide();\n",
       "    $('nav#menubar').hide();\n",
       "    $('.breadcrumb').hide();\n",
       "    $('.hidden-print').hide();\n",
       "  });\n",
       "</script>\n",
       "\n",
       "<footer id=\"attribution\" style=\"float:right; color:#999; background:#fff;\">\n",
       "Created with Jupyter, delivered by Fastly, rendered by Rackspace.\n",
       "</footer>"
      ],
      "text/plain": [
       "<IPython.core.display.HTML object>"
      ]
     },
     "execution_count": 1,
     "metadata": {},
     "output_type": "execute_result"
    }
   ],
   "source": [
    "from IPython.display import HTML\n",
    "HTML(filename='/Users/hubatsl/Desktop/SPT/Us/SPT/Python/hide_code.html')"
   ]
  },
  {
   "cell_type": "markdown",
   "metadata": {
    "nbpresent": {
     "id": "a0231872-635f-48ff-8df4-5a113fde1afc"
    }
   },
   "source": [
    "# Off Rate Parameter Sampling\n",
    "\n",
    "In order to test changes made to off rate fitting this document can serve as a standard. Here, off-rate data is simulated for various parameter combinations, fits are performed and the resulting parameter space sweep is analysed."
   ]
  },
  {
   "cell_type": "code",
   "execution_count": 9,
   "metadata": {
    "collapsed": false
   },
   "outputs": [],
   "source": [
    "import glob\n",
    "from ipywidgets import interact, FloatSlider\n",
    "from matplotlib import pyplot as plt\n",
    "import numpy\n",
    "import os\n",
    "import pandas as pd\n",
    "import sys\n",
    "import time\n",
    "# Add path to python modules\n",
    "sys.path.append(os.getcwd()[0:-7]+'src/') \n",
    "from MovieTracks import ParameterSampler\n",
    "%matplotlib inline"
   ]
  },
  {
   "cell_type": "code",
   "execution_count": 10,
   "metadata": {
    "collapsed": false
   },
   "outputs": [],
   "source": [
    "#Get noise value\n",
    "noise = numpy.array([0.1])\n",
    "#For each noise value run the following param combinations\n",
    "offRate = numpy.arange(0.01, 0.02, 0.01)\n",
    "kOn = numpy.arange(100, 200, 100)\n",
    "kPh = numpy.arange(0.01, 0.02, 0.01)\n",
    "#Do the sampling\n",
    "p = ParameterSampler(offRate, kPh, kOn, noise, '1')"
   ]
  },
  {
   "cell_type": "markdown",
   "metadata": {
    "collapsed": true
   },
   "source": [
    "**Analyse Cluster Output**"
   ]
  },
  {
   "cell_type": "code",
   "execution_count": 11,
   "metadata": {
    "collapsed": false
   },
   "outputs": [],
   "source": [
    "\n",
    "#Concatenate all input/output files into one Pandas frame\n",
    "allFilesIn = glob.glob(\"/Users/hubatsl/Desktop/SPT/Us/SPT/Python/offRate_Simulation_16_10_16/\" \n",
    "                       + \"/in*.csv\")\n",
    "df_from_each_file = (pd.read_csv(f) for f in allFilesIn)\n",
    "concatenated_dfIn   = pd.concat(df_from_each_file, ignore_index=True)\n",
    "allFilesOut = glob.glob(\"/Users/hubatsl/Desktop/SPT/Us/SPT/Python/offRate_Simulation_16_10_16/\" \n",
    "                        + \"/out*.csv\")\n",
    "df_from_each_file = (pd.read_csv(f) for f in allFilesOut)\n",
    "concatenated_dfOut   = pd.concat(df_from_each_file, ignore_index=True)\n",
    "\n",
    "# Calculate errors for each method by dividing the fitted off rate by \n",
    "# the true input\n",
    "# Get Off Rates and Bleaching rates in seperate dataframes\n",
    "dfOffRate = concatenated_dfOut[['kOffVar1', 'kOffVar2', 'kOffVar3', 'kOffVar4', 'kOffVar5', 'kOffVar6']]\n",
    "dfPhRate = concatenated_dfOut[['kPhVar1', 'kPhVar5', 'kPhVar6']]\n",
    "dfOffRateErr = (dfOffRate.T/concatenated_dfIn.values[:, 1]).T\n",
    "dfPhRateErr = (dfPhRate.T/concatenated_dfIn.values[:, 2]).T"
   ]
  },
  {
   "cell_type": "code",
   "execution_count": 12,
   "metadata": {
    "collapsed": false
   },
   "outputs": [
    {
     "name": "stdout",
     "output_type": "stream",
     "text": [
      "Unnamed: 0      0.000000\n",
      "kOffVar1      715.407863\n",
      "kOffVar2        0.000163\n",
      "kOffVar3        0.000688\n",
      "kOffVar4       -0.000135\n",
      "kOffVar5       28.524936\n",
      "kOffVar6        0.000224\n",
      "kPhVar1       237.121428\n",
      "kPhVar5        -3.879203\n",
      "kPhVar6         0.000359\n",
      "kOnVar5        -0.001493\n",
      "kOnVar6         0.000138\n",
      "Name: 57809, dtype: float64\n",
      "kPhVar1    474242.855010\n",
      "kPhVar5     -7758.405965\n",
      "kPhVar6         0.717175\n",
      "Name: 57809, dtype: float64\n",
      "Unnamed: 0      0.0000\n",
      "kOff            0.0005\n",
      "kPh             0.0005\n",
      "kOn           600.0000\n",
      "noise           1.0000\n",
      "Name: 57809, dtype: float64\n"
     ]
    }
   ],
   "source": [
    "# dfPhRate.ix[(dfPhRateErr.kPhVar1>10)]\n",
    "idx = 57809\n",
    "print(concatenated_dfOut.ix[idx])\n",
    "print(dfPhRateErr.ix[idx])\n",
    "print(concatenated_dfIn.ix[idx, :])"
   ]
  },
  {
   "cell_type": "code",
   "execution_count": null,
   "metadata": {
    "collapsed": false
   },
   "outputs": [
    {
     "data": {
      "image/png": "[encoded data removed]",
      "text/plain": [
       "<matplotlib.figure.Figure at 0x1069daac8>"
      ]
     },
     "metadata": {},
     "output_type": "display_data"
    }
   ],
   "source": [
    "x_min_widget = FloatSlider(min=0.0, max=600000.0, step=1000)\n",
    "x_max_widget = FloatSlider(min=0.0, max=600000.0, step=1000)\n",
    "y_min_widget = FloatSlider(min=-10, max=10, step=0.5)\n",
    "y_max_widget = FloatSlider(min=-10, max=10, step=0.5)\n",
    "\n",
    "def plotErrXmax(xmin, xmax, ymin, ymax):\n",
    "    plt.plot(dfOffRateErr.kOffVar6)\n",
    "    plt.xlim((xmin, xmax))\n",
    "    plt.ylim((ymin, ymax))\n",
    "    plt.show()\n",
    "\n",
    "interact(plotErrXmax, xmin=x_min_widget, xmax=x_max_widget, ymin=y_min_widget, ymax=y_max_widget)"
   ]
  },
  {
   "cell_type": "code",
   "execution_count": null,
   "metadata": {
    "collapsed": true
   },
   "outputs": [],
   "source": []
  }
 ],
 "metadata": {
  "anaconda-cloud": {},
  "celltoolbar": "Raw Cell Format",
  "kernelspec": {
   "display_name": "Python [python3Conda]",
   "language": "python",
   "name": "Python [python3Conda]"
  },
  "language_info": {
   "codemirror_mode": {
    "name": "ipython",
    "version": 3
   },
   "file_extension": ".py",
   "mimetype": "text/x-python",
   "name": "python",
   "nbconvert_exporter": "python",
   "pygments_lexer": "ipython3",
   "version": "3.5.2"
  },
  "nbpresent": {
   "slides": {},
   "themes": {
    "default": "a41f9a71-3b14-46c8-8a57-da66739704d1",
    "theme": {
     "a41f9a71-3b14-46c8-8a57-da66739704d1": {
      "backgrounds": {
       "dc7afa04-bf90-40b1-82a5-726e3cff5267": {
        "background-color": "31af15d2-7e15-44c5-ab5e-e04b16a89eff",
        "id": "dc7afa04-bf90-40b1-82a5-726e3cff5267"
       }
      },
      "id": "a41f9a71-3b14-46c8-8a57-da66739704d1",
      "palette": {
       "19cc588f-0593-49c9-9f4b-e4d7cc113b1c": {
        "id": "19cc588f-0593-49c9-9f4b-e4d7cc113b1c",
        "rgb": [
         252,
         252,
         252
        ]
       },
       "31af15d2-7e15-44c5-ab5e-e04b16a89eff": {
        "id": "31af15d2-7e15-44c5-ab5e-e04b16a89eff",
        "rgb": [
         68,
         68,
         68
        ]
       },
       "50f92c45-a630-455b-aec3-788680ec7410": {
        "id": "50f92c45-a630-455b-aec3-788680ec7410",
        "rgb": [
         197,
         226,
         245
        ]
       },
       "c5cc3653-2ee1-402a-aba2-7caae1da4f6c": {
        "id": "c5cc3653-2ee1-402a-aba2-7caae1da4f6c",
        "rgb": [
         43,
         126,
         184
        ]
       },
       "efa7f048-9acb-414c-8b04-a26811511a21": {
        "id": "efa7f048-9acb-414c-8b04-a26811511a21",
        "rgb": [
         25.118061674008803,
         73.60176211453744,
         107.4819383259912
        ]
       }
      },
      "rules": {
       "a": {
        "color": "19cc588f-0593-49c9-9f4b-e4d7cc113b1c"
       },
       "blockquote": {
        "color": "50f92c45-a630-455b-aec3-788680ec7410",
        "font-size": 3
       },
       "code": {
        "font-family": "Anonymous Pro"
       },
       "h1": {
        "color": "19cc588f-0593-49c9-9f4b-e4d7cc113b1c",
        "font-family": "Merriweather",
        "font-size": 8
       },
       "h2": {
        "color": "19cc588f-0593-49c9-9f4b-e4d7cc113b1c",
        "font-family": "Merriweather",
        "font-size": 6
       },
       "h3": {
        "color": "50f92c45-a630-455b-aec3-788680ec7410",
        "font-family": "Lato",
        "font-size": 5.5
       },
       "h4": {
        "color": "c5cc3653-2ee1-402a-aba2-7caae1da4f6c",
        "font-family": "Lato",
        "font-size": 5
       },
       "h5": {
        "font-family": "Lato"
       },
       "h6": {
        "font-family": "Lato"
       },
       "h7": {
        "font-family": "Lato"
       },
       "li": {
        "color": "50f92c45-a630-455b-aec3-788680ec7410",
        "font-size": 3.25
       },
       "pre": {
        "font-family": "Anonymous Pro",
        "font-size": 4
       }
      },
      "text-base": {
       "color": "19cc588f-0593-49c9-9f4b-e4d7cc113b1c",
       "font-family": "Lato",
       "font-size": 4
      }
     }
    }
   }
  }
 },
 "nbformat": 4,
 "nbformat_minor": 0
}
