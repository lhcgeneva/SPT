{
 "cells": [
  {
   "cell_type": "code",
   "execution_count": null,
   "metadata": {
    "collapsed": true
   },
   "outputs": [],
   "source": [
    "from IPython.display import HTML\n",
    "HTML(filename='/Users/hubatsl/Desktop/SPT/Us/SPT/Python/src/hide_code.html')"
   ]
  },
  {
   "cell_type": "markdown",
   "metadata": {
    "nbpresent": {
     "id": "a0231872-635f-48ff-8df4-5a113fde1afc"
    }
   },
   "source": [
    "# Tests for off rate fitting\n",
    "\n",
    "In order to test changes made to off rate fitting this document can serve as a standard. Sample off rate data is taken from PAR-2. Also compare to Matlab's testing file. Both should give roughly the same outputs."
   ]
  },
  {
   "cell_type": "code",
   "execution_count": null,
   "metadata": {
    "collapsed": false,
    "nbpresent": {
     "id": "eacc4178-0522-414a-84e0-1f5afed79e4f"
    },
    "scrolled": true
   },
   "outputs": [],
   "source": [
    "import numpy\n",
    "import os\n",
    "import sys\n",
    "import time\n",
    "from matplotlib import pyplot as plt\n",
    "# Add path to python modules\n",
    "sys.path.append(os.path.abspath('..')+'/src/')\n",
    "sys.path.append(os.path.abspath('..')+'/3rdParty/')\n",
    "from MovieTracks import OffRateFitter\n",
    "import trackpy"
   ]
  },
  {
   "cell_type": "markdown",
   "metadata": {
    "nbpresent": {
     "id": "2c3aa5e9-d986-4422-b576-f3cb2b8a97b5"
    }
   },
   "source": [
    "# Get off rate according to Robin et al. 2014"
   ]
  },
  {
   "cell_type": "code",
   "execution_count": null,
   "metadata": {
    "collapsed": false
   },
   "outputs": [],
   "source": [
    "fol = '/Users/hubatsl/Desktop/SPT/Us/SPT/sample_data/16_04_11/fov2/'\n",
    "# Changed featSize to a default of 5 instead of 3 in Jan 2017, therefore also adapting\n",
    "# all the off-rates that follow later in this script. Changed off rates again after realising\n",
    "# that I was using the wrong time step until 30/03/2017: now 1 instead of previously 2.\n",
    "o = OffRateFitter(filePath=fol, threshold=120, autoMetaDataExtract=False,\n",
    "                  featSize=5, parallel=False, pixelSize=0.12,\n",
    "                  saveFigs=True, showFigs=True, timestep=1.01)\n",
    "t0 = time.time()\n",
    "o.analyze()\n",
    "t = time.time() - t0\n",
    "print('time elapsed: '+ str(t)+'s, should not be substantially bigger than 3 s if' +\n",
    "      'parallel is set to True, not much more than 7s if it is set to False.')"
   ]
  },
  {
   "cell_type": "code",
   "execution_count": null,
   "metadata": {
    "collapsed": false,
    "nbpresent": {
     "id": "db98bb9f-e411-49c5-927f-c5ef55374d3b"
    }
   },
   "outputs": [],
   "source": [
    "o.plot_calibration(-1)"
   ]
  },
  {
   "cell_type": "markdown",
   "metadata": {
    "nbpresent": {
     "id": "fb17aaae-f31d-47dc-bfdf-a2eba7b1ad21"
    }
   },
   "source": [
    "Fit bleaching behavior of embryo to $$\\frac{dy}{dt}=k_{off}N_{ss}-(k_{off}+k_{bleach})N$$ to extract bleaching and off-rate."
   ]
  },
  {
   "cell_type": "code",
   "execution_count": null,
   "metadata": {
    "collapsed": false,
    "nbpresent": {
     "id": "d9cc69f3-3671-41eb-9456-32bc8e041a84"
    }
   },
   "outputs": [],
   "source": [
    "o.showFigs = True\n",
    "o.plot_calibration(0)\n",
    "o.plot_calibration(-1)\n",
    "o.fit_offRate([1, 2, 3, 4, 5, 6])"
   ]
  },
  {
   "cell_type": "markdown",
   "metadata": {
    "nbpresent": {
     "id": "71e7e842-3367-4311-88a5-c5272b3370bc"
    }
   },
   "source": [
    "**Off Rate and Bleaching rate as well as Off Rate calculated by fixing start and end point.**"
   ]
  },
  {
   "cell_type": "code",
   "execution_count": null,
   "metadata": {
    "collapsed": false,
    "nbpresent": {
     "id": "6ea76657-31d0-4dfd-b220-75cdc8b1efc5"
    }
   },
   "outputs": [],
   "source": [
    "if ((o.kOffVar1,\n",
    "     o.kOffVar2,\n",
    "     o.kOffVar3,\n",
    "     o.kOffVar4,\n",
    "     o.kOffVar5,\n",
    "     o.kOffVar6)==\n",
    "(0.010253594884764301,\n",
    " 0.010253587518616207,\n",
    " 0.0072597107968089703,\n",
    " 0.010151082924612496,\n",
    " 0.014317628635860502,\n",
    " 0.015360807702214735)):\n",
    "    print('off rates as expected.')\n",
    "else: print('off rates not as expected.')"
   ]
  },
  {
   "cell_type": "code",
   "execution_count": null,
   "metadata": {
    "collapsed": false,
    "nbpresent": {
     "id": "25d2d405-2e32-4beb-a5af-b7a85de6c1b8"
    }
   },
   "outputs": [],
   "source": [
    "s = OffRateFitter(None, 40)\n",
    "s.synthetic_offRate_data(0.0001, 0.007, 0.014, 300, 0.1)\n",
    "s.showFigs=True\n",
    "s.fit_offRate([1, 2, 3, 4, 5, 6])"
   ]
  },
  {
   "cell_type": "code",
   "execution_count": null,
   "metadata": {
    "collapsed": false,
    "nbpresent": {
     "id": "d73104a7-a5c0-4e8b-a732-f55d66597383"
    }
   },
   "outputs": [],
   "source": [
    "print([s.kOffVar1,\n",
    "     s.kOffVar2,\n",
    "     s.kOffVar3,\n",
    "     s.kOffVar4,\n",
    "     s.kOffVar5,\n",
    "     s.kOffVar6])"
   ]
  },
  {
   "cell_type": "code",
   "execution_count": null,
   "metadata": {
    "collapsed": false,
    "nbpresent": {
     "id": "14b2dc61-e24f-42dc-9868-7a49e7e9b5e6"
    }
   },
   "outputs": [],
   "source": [
    "s = OffRateFitter(None, 40)\n",
    "s.synthetic_offRate_data(600, 0.0005, 0.0005, 2/0.0005, 1)\n",
    "s.showFigs=True\n",
    "s.fit_offRate([1, 6])\n",
    "print('Variant 1: ' + str(s.kOffVar1) + ', Variant 6: ' + str(s.kOffVar6))\n",
    "s.kPhVar1/0.0005"
   ]
  },
  {
   "cell_type": "markdown",
   "metadata": {
    "collapsed": false,
    "nbpresent": {
     "id": "415391a0-1525-4366-923b-c78dd77a58ba"
    }
   },
   "source": [
    "** Test for automatic meta data extraction to get precise time intervals **"
   ]
  },
  {
   "cell_type": "code",
   "execution_count": null,
   "metadata": {
    "collapsed": false
   },
   "outputs": [],
   "source": [
    "fol = '/Users/hubatsl/Desktop/SPT/Us/SPT/sample_data/16_04_11/100p_1s_100ms.stk'\n",
    "o = OffRateFitter(filePath=fol, threshold=3500, parallel=True, pixelSize=0.12,\n",
    "                    saveFigs=True, showFigs=True, autoMetaDataExtract=True, featSize=5)\n",
    "o.analyze()\n",
    "o.plot_calibration(-1)"
   ]
  },
  {
   "cell_type": "code",
   "execution_count": null,
   "metadata": {
    "collapsed": false
   },
   "outputs": [],
   "source": [
    "o.showFigs = True\n",
    "o.plot_calibration(1)\n",
    "o.fit_offRate([1, 2, 3, 4, 5, 6])"
   ]
  },
  {
   "cell_type": "code",
   "execution_count": null,
   "metadata": {
    "collapsed": false
   },
   "outputs": [],
   "source": [
    "print([o.kOffVar1,\n",
    "     o.kOffVar2,\n",
    "     o.kOffVar3,\n",
    "     o.kOffVar4,\n",
    "     o.kOffVar5,\n",
    "     o.kOffVar6])"
   ]
  },
  {
   "cell_type": "markdown",
   "metadata": {},
   "source": [
    "## Run for PH domain to test for shorter off rates."
   ]
  },
  {
   "cell_type": "code",
   "execution_count": null,
   "metadata": {
    "collapsed": false
   },
   "outputs": [],
   "source": [
    "o = OffRateFitter(filePath='/Users/hubatsl/Desktop/SPT/Us/SPT/sample_data/17_03_16_OD58_PH_XFPRNAi/E1/TIRF_analyse.stk',\n",
    "                  threshold=1500, parallel=False, pixelSize=0.12, featSize=5, maxsize=1.377)\n",
    "o.plot_calibration(-1)\n",
    "o.analyze()"
   ]
  },
  {
   "cell_type": "code",
   "execution_count": null,
   "metadata": {
    "collapsed": false
   },
   "outputs": [],
   "source": [
    "o.showFigs=True\n",
    "o.fit_offRate([ 5, 6])"
   ]
  },
  {
   "cell_type": "markdown",
   "metadata": {},
   "source": [
    "Test whether off rates are calculated correctly for PH domain."
   ]
  },
  {
   "cell_type": "code",
   "execution_count": null,
   "metadata": {
    "collapsed": false
   },
   "outputs": [],
   "source": [
    "print(o.kOffVar5 == 0.20710176544868358)\n",
    "print(o.kOffVar6 == 0.17905390908916005)"
   ]
  },
  {
   "cell_type": "markdown",
   "metadata": {},
   "source": [
    "## Look at recovery for PH after bleaching the membrane via TIRF laser."
   ]
  },
  {
   "cell_type": "code",
   "execution_count": null,
   "metadata": {
    "collapsed": false
   },
   "outputs": [],
   "source": [
    "from MovieTracks import ParticleFinder\n",
    "o = ParticleFinder(filePath='/Users/hubatsl/Desktop/SPT/Us/SPT/sample_data/17_03_16_OD58_PH_XFPRNAi/E3_reverse_recording_recovery/TIRF_during_recovery.stk',\n",
    "                  threshold=1500, parallel=False, pixelSize=0.12, featSize=5)\n",
    "o.plot_calibration(0)\n",
    "o.analyze()"
   ]
  },
  {
   "cell_type": "code",
   "execution_count": null,
   "metadata": {
    "collapsed": false
   },
   "outputs": [],
   "source": [
    "plt.plot([len(df.index) for t, df in o.features.groupby('frame')])\n",
    "plt.show()"
   ]
  },
  {
   "cell_type": "markdown",
   "metadata": {},
   "source": [
    "Half of the recovery time seems to have happened after 10-20 frames, frame rate was 2/s, giving a half turnover of about 5-10 s, which seems reasonable for PH."
   ]
  },
  {
   "cell_type": "markdown",
   "metadata": {
    "collapsed": true
   },
   "source": [
    "## Select ROI"
   ]
  },
  {
   "cell_type": "code",
   "execution_count": null,
   "metadata": {
    "collapsed": false
   },
   "outputs": [],
   "source": [
    "fol = '/Users/hubatsl/Desktop/SPT/Us/SPT/sample_data/16_04_11/100p_1s_100ms.stk'\n",
    "roi_example = OffRateFitter(filePath=fol, threshold=3500, parallel=True, pixelSize=0.12,\n",
    "                    saveFigs=True, showFigs=True, autoMetaDataExtract=True, featSize=5)\n",
    "roi_example.plot_calibration(0)\n",
    "roi_example.analyze()"
   ]
  },
  {
   "cell_type": "code",
   "execution_count": null,
   "metadata": {
    "collapsed": false
   },
   "outputs": [],
   "source": [
    "%matplotlib notebook\n",
    "roi.def_ROI()"
   ]
  },
  {
   "cell_type": "code",
   "execution_count": null,
   "metadata": {
    "collapsed": false
   },
   "outputs": [],
   "source": [
    "roi.apply_ROI()\n",
    "trackpy.scatter(roi.features); plt.show()"
   ]
  },
  {
   "cell_type": "code",
   "execution_count": null,
   "metadata": {
    "collapsed": false
   },
   "outputs": [],
   "source": [
    "roi.fit_offRate([1, 5, 6])"
   ]
  },
  {
   "cell_type": "code",
   "execution_count": null,
   "metadata": {
    "collapsed": false
   },
   "outputs": [],
   "source": [
    "print([roi.kOffVar1, roi.kOffVar5, roi.kOffVar6])"
   ]
  },
  {
   "cell_type": "code",
   "execution_count": null,
   "metadata": {
    "collapsed": true
   },
   "outputs": [],
   "source": []
  }
 ],
 "metadata": {
  "anaconda-cloud": {},
  "celltoolbar": "Raw Cell Format",
  "kernelspec": {
   "display_name": "Python [python3Conda]",
   "language": "python",
   "name": "Python [python3Conda]"
  },
  "language_info": {
   "codemirror_mode": {
    "name": "ipython",
    "version": 3
   },
   "file_extension": ".py",
   "mimetype": "text/x-python",
   "name": "python",
   "nbconvert_exporter": "python",
   "pygments_lexer": "ipython3",
   "version": "3.5.2"
  },
  "nbpresent": {
   "slides": {
    "18b0d8fd-2911-45f4-9a86-0827153af090": {
     "id": "18b0d8fd-2911-45f4-9a86-0827153af090",
     "prev": "2981b01d-7cb8-4ad5-a2fd-fa3e7ac6e61b",
     "regions": {
      "5b7167b9-22f3-4ef2-81a2-52889c30fa29": {
       "attrs": {
        "height": 0.8,
        "width": 0.8,
        "x": 0.1,
        "y": 0.1
       },
       "content": {
        "cell": "71e7e842-3367-4311-88a5-c5272b3370bc",
        "part": "whole"
       },
       "id": "5b7167b9-22f3-4ef2-81a2-52889c30fa29"
      }
     }
    },
    "272e4e07-1b5c-4d74-b572-4d4dba144d42": {
     "id": "272e4e07-1b5c-4d74-b572-4d4dba144d42",
     "prev": "18b0d8fd-2911-45f4-9a86-0827153af090",
     "regions": {
      "17f107a3-c4aa-44c2-a026-398728ac0365": {
       "attrs": {
        "height": 0.8,
        "width": 0.8,
        "x": 0.1,
        "y": 0.1
       },
       "content": {
        "cell": "6ea76657-31d0-4dfd-b220-75cdc8b1efc5",
        "part": "whole"
       },
       "id": "17f107a3-c4aa-44c2-a026-398728ac0365"
      }
     }
    },
    "2981b01d-7cb8-4ad5-a2fd-fa3e7ac6e61b": {
     "id": "2981b01d-7cb8-4ad5-a2fd-fa3e7ac6e61b",
     "prev": "d0e12a14-1439-4228-acfa-96b9cd2f39b9",
     "regions": {
      "c38d33f3-ffd6-4a99-bc6b-d6604eeacabd": {
       "attrs": {
        "height": 0.8,
        "width": 0.8,
        "x": 0.1,
        "y": 0.1
       },
       "content": {
        "cell": "fb17aaae-f31d-47dc-bfdf-a2eba7b1ad21",
        "part": "whole"
       },
       "id": "c38d33f3-ffd6-4a99-bc6b-d6604eeacabd"
      }
     }
    },
    "30543fb4-dfba-4cba-9f02-16f1073017b9": {
     "id": "30543fb4-dfba-4cba-9f02-16f1073017b9",
     "prev": "4dcada7b-0540-475f-a5bc-ff0670712010",
     "regions": {
      "4bc87143-6ff5-4849-a78e-2e970814282e": {
       "attrs": {
        "height": 0.8,
        "width": 0.8,
        "x": 0.1,
        "y": 0.1
       },
       "content": {
        "cell": "14b2dc61-e24f-42dc-9868-7a49e7e9b5e6",
        "part": "whole"
       },
       "id": "4bc87143-6ff5-4849-a78e-2e970814282e"
      }
     }
    },
    "4267c8d9-a947-4f21-b735-e1cb76497afe": {
     "id": "4267c8d9-a947-4f21-b735-e1cb76497afe",
     "prev": "e75fdeb9-ff90-46e8-9fa5-5120da25ff46",
     "regions": {
      "0c71b485-95fe-48bd-80e9-949354848dab": {
       "attrs": {
        "height": 0.8,
        "width": 0.8,
        "x": 0.1,
        "y": 0.1
       },
       "content": {
        "cell": "6636f280-28a9-472c-b466-0bfb0759273e",
        "part": "whole"
       },
       "id": "0c71b485-95fe-48bd-80e9-949354848dab"
      }
     }
    },
    "4dcada7b-0540-475f-a5bc-ff0670712010": {
     "id": "4dcada7b-0540-475f-a5bc-ff0670712010",
     "prev": "c155eb9b-e17e-4e36-b619-69b950356789",
     "regions": {
      "fc5754ab-d2a5-4ae6-a74b-d1fc9f3529b4": {
       "attrs": {
        "height": 0.8,
        "width": 0.8,
        "x": 0.1,
        "y": 0.1
       },
       "content": {
        "cell": "d73104a7-a5c0-4e8b-a732-f55d66597383",
        "part": "whole"
       },
       "id": "fc5754ab-d2a5-4ae6-a74b-d1fc9f3529b4"
      }
     }
    },
    "5424f952-8c81-453c-9998-f0925b81c53e": {
     "id": "5424f952-8c81-453c-9998-f0925b81c53e",
     "prev": "584cb6f9-36dc-4543-a76d-12df091204d0",
     "regions": {
      "cf593c6e-909a-4f74-b6c6-463c85718777": {
       "attrs": {
        "height": 0.8,
        "width": 0.8,
        "x": 0.1,
        "y": 0.1
       },
       "content": {
        "cell": "eacc4178-0522-414a-84e0-1f5afed79e4f",
        "part": "whole"
       },
       "id": "cf593c6e-909a-4f74-b6c6-463c85718777"
      }
     }
    },
    "584cb6f9-36dc-4543-a76d-12df091204d0": {
     "id": "584cb6f9-36dc-4543-a76d-12df091204d0",
     "prev": "cc45569d-9a09-42e5-872e-82342962fb9d",
     "regions": {
      "e9a69a88-e777-404f-982f-50d823308c2e": {
       "attrs": {
        "height": 0.8,
        "width": 0.8,
        "x": 0.1,
        "y": 0.1
       },
       "content": {
        "cell": "a0231872-635f-48ff-8df4-5a113fde1afc",
        "part": "whole"
       },
       "id": "e9a69a88-e777-404f-982f-50d823308c2e"
      }
     }
    },
    "a89eae7e-2869-4727-949a-4d1b6622b4c7": {
     "id": "a89eae7e-2869-4727-949a-4d1b6622b4c7",
     "prev": "5424f952-8c81-453c-9998-f0925b81c53e",
     "regions": {
      "1bc21cc7-600e-46f7-88df-c000a9415d7e": {
       "attrs": {
        "height": 0.8,
        "width": 0.8,
        "x": 0.1,
        "y": 0.1
       },
       "content": {
        "cell": "2c3aa5e9-d986-4422-b576-f3cb2b8a97b5",
        "part": "whole"
       },
       "id": "1bc21cc7-600e-46f7-88df-c000a9415d7e"
      }
     }
    },
    "b781c506-e799-4ff5-8d04-ceb305c913d3": {
     "id": "b781c506-e799-4ff5-8d04-ceb305c913d3",
     "prev": "4267c8d9-a947-4f21-b735-e1cb76497afe",
     "regions": {
      "8b2f09df-5c0e-448d-8799-59e7602696e8": {
       "attrs": {
        "height": 0.8,
        "width": 0.8,
        "x": 0.1,
        "y": 0.1
       },
       "content": {
        "cell": "c6a28b19-ef80-4be4-bab9-3af8f4c187f9",
        "part": "whole"
       },
       "id": "8b2f09df-5c0e-448d-8799-59e7602696e8"
      }
     }
    },
    "c155eb9b-e17e-4e36-b619-69b950356789": {
     "id": "c155eb9b-e17e-4e36-b619-69b950356789",
     "prev": "272e4e07-1b5c-4d74-b572-4d4dba144d42",
     "regions": {
      "1b8d5e51-fc71-41f9-94e6-ff66807c53ec": {
       "attrs": {
        "height": 0.8,
        "width": 0.8,
        "x": 0.1,
        "y": 0.1
       },
       "content": {
        "cell": "25d2d405-2e32-4beb-a5af-b7a85de6c1b8",
        "part": "whole"
       },
       "id": "1b8d5e51-fc71-41f9-94e6-ff66807c53ec"
      }
     }
    },
    "c1ca4a65-65ca-4517-bd68-9d5a19aa033b": {
     "id": "c1ca4a65-65ca-4517-bd68-9d5a19aa033b",
     "prev": "b781c506-e799-4ff5-8d04-ceb305c913d3",
     "regions": {
      "f5908241-eb50-412a-9c27-706dcbe5268d": {
       "attrs": {
        "height": 0.8,
        "width": 0.8,
        "x": 0.1,
        "y": 0.1
       },
       "content": {
        "cell": "29ce23aa-adfc-409b-b46f-a9228978eb83",
        "part": "whole"
       },
       "id": "f5908241-eb50-412a-9c27-706dcbe5268d"
      }
     }
    },
    "cc45569d-9a09-42e5-872e-82342962fb9d": {
     "id": "cc45569d-9a09-42e5-872e-82342962fb9d",
     "prev": null,
     "regions": {
      "0160178d-c945-424f-9942-dfe319c1a101": {
       "attrs": {
        "height": 0.8,
        "width": 0.8,
        "x": 0.1,
        "y": 0.1
       },
       "content": {
        "cell": "519e0815-466a-464a-ace7-3fd48a0a4097",
        "part": "whole"
       },
       "id": "0160178d-c945-424f-9942-dfe319c1a101"
      }
     }
    },
    "d0e12a14-1439-4228-acfa-96b9cd2f39b9": {
     "id": "d0e12a14-1439-4228-acfa-96b9cd2f39b9",
     "prev": "a89eae7e-2869-4727-949a-4d1b6622b4c7",
     "regions": {
      "15e00c0a-bfb4-4a53-b30f-38603b742e29": {
       "attrs": {
        "height": 0.8,
        "width": 0.8,
        "x": 0.1,
        "y": 0.1
       },
       "content": {
        "cell": "db98bb9f-e411-49c5-927f-c5ef55374d3b",
        "part": "whole"
       },
       "id": "15e00c0a-bfb4-4a53-b30f-38603b742e29"
      }
     }
    },
    "e75fdeb9-ff90-46e8-9fa5-5120da25ff46": {
     "id": "e75fdeb9-ff90-46e8-9fa5-5120da25ff46",
     "prev": "30543fb4-dfba-4cba-9f02-16f1073017b9",
     "regions": {
      "94017842-fdef-403e-93cd-9412c6f9d773": {
       "attrs": {
        "height": 0.8,
        "width": 0.8,
        "x": 0.1,
        "y": 0.1
       },
       "content": {
        "cell": "415391a0-1525-4366-923b-c78dd77a58ba",
        "part": "whole"
       },
       "id": "94017842-fdef-403e-93cd-9412c6f9d773"
      }
     }
    }
   },
   "themes": {
    "default": "a41f9a71-3b14-46c8-8a57-da66739704d1",
    "theme": {
     "a41f9a71-3b14-46c8-8a57-da66739704d1": {
      "backgrounds": {
       "dc7afa04-bf90-40b1-82a5-726e3cff5267": {
        "background-color": "31af15d2-7e15-44c5-ab5e-e04b16a89eff",
        "id": "dc7afa04-bf90-40b1-82a5-726e3cff5267"
       }
      },
      "id": "a41f9a71-3b14-46c8-8a57-da66739704d1",
      "palette": {
       "19cc588f-0593-49c9-9f4b-e4d7cc113b1c": {
        "id": "19cc588f-0593-49c9-9f4b-e4d7cc113b1c",
        "rgb": [
         252,
         252,
         252
        ]
       },
       "31af15d2-7e15-44c5-ab5e-e04b16a89eff": {
        "id": "31af15d2-7e15-44c5-ab5e-e04b16a89eff",
        "rgb": [
         68,
         68,
         68
        ]
       },
       "50f92c45-a630-455b-aec3-788680ec7410": {
        "id": "50f92c45-a630-455b-aec3-788680ec7410",
        "rgb": [
         197,
         226,
         245
        ]
       },
       "c5cc3653-2ee1-402a-aba2-7caae1da4f6c": {
        "id": "c5cc3653-2ee1-402a-aba2-7caae1da4f6c",
        "rgb": [
         43,
         126,
         184
        ]
       },
       "efa7f048-9acb-414c-8b04-a26811511a21": {
        "id": "efa7f048-9acb-414c-8b04-a26811511a21",
        "rgb": [
         25.118061674008803,
         73.60176211453744,
         107.4819383259912
        ]
       }
      },
      "rules": {
       "a": {
        "color": "19cc588f-0593-49c9-9f4b-e4d7cc113b1c"
       },
       "blockquote": {
        "color": "50f92c45-a630-455b-aec3-788680ec7410",
        "font-size": 3
       },
       "code": {
        "font-family": "Anonymous Pro"
       },
       "h1": {
        "color": "19cc588f-0593-49c9-9f4b-e4d7cc113b1c",
        "font-family": "Merriweather",
        "font-size": 8
       },
       "h2": {
        "color": "19cc588f-0593-49c9-9f4b-e4d7cc113b1c",
        "font-family": "Merriweather",
        "font-size": 6
       },
       "h3": {
        "color": "50f92c45-a630-455b-aec3-788680ec7410",
        "font-family": "Lato",
        "font-size": 5.5
       },
       "h4": {
        "color": "c5cc3653-2ee1-402a-aba2-7caae1da4f6c",
        "font-family": "Lato",
        "font-size": 5
       },
       "h5": {
        "font-family": "Lato"
       },
       "h6": {
        "font-family": "Lato"
       },
       "h7": {
        "font-family": "Lato"
       },
       "li": {
        "color": "50f92c45-a630-455b-aec3-788680ec7410",
        "font-size": 3.25
       },
       "pre": {
        "font-family": "Anonymous Pro",
        "font-size": 4
       }
      },
      "text-base": {
       "color": "19cc588f-0593-49c9-9f4b-e4d7cc113b1c",
       "font-family": "Lato",
       "font-size": 4
      }
     }
    }
   }
  }
 },
 "nbformat": 4,
 "nbformat_minor": 0
}
