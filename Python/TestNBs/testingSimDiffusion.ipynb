{
 "cells": [
  {
   "cell_type": "markdown",
   "metadata": {},
   "source": [
    "# Testing 2D simulation of diffusive particles\n",
    "Initially we wrote code for 2D simulation of images of membrane bound particles in Matlab (Raphaela Raphaela Geßele started in Matlab in Santa Barbara, I then optimized the code and rewrote most of it). Then I implemented the same code in Python. \n",
    "\n",
    "This notebook is used to compare the two different languages, the output should be the same. Testing for similarity is not straightforward, therefore this file uses a simple 2-sample KS-test in order to show there are no significant differences between the two languages.\n",
    "\n",
    "A large p-value indicates they are relatively similar."
   ]
  },
  {
   "cell_type": "code",
   "execution_count": null,
   "metadata": {
    "collapsed": false
   },
   "outputs": [],
   "source": [
    "from IPython.display import HTML\n",
    "HTML(filename='/Users/hubatsl/Desktop/SPT/Us/SPT/Python/src/hide_code.html')"
   ]
  },
  {
   "cell_type": "code",
   "execution_count": null,
   "metadata": {
    "collapsed": false
   },
   "outputs": [],
   "source": [
    "import matplotlib.pyplot as plt\n",
    "import numpy as np\n",
    "import os\n",
    "import scipy.stats as stats\n",
    "import sys\n",
    "# Add path to python modules\n",
    "sys.path.append(os.path.abspath('..')+'/src/') \n",
    "from MovieTracks import DiffusionFitter\n",
    "from SimDiffusion import ImageSimulator"
   ]
  },
  {
   "cell_type": "markdown",
   "metadata": {
    "collapsed": true
   },
   "source": [
    "**Identifiying different diffusive species**\n",
    "\n",
    "In order to distinguish between differently diffusive species I try to compare between experiments like this: "
   ]
  },
  {
   "cell_type": "code",
   "execution_count": null,
   "metadata": {
    "collapsed": true
   },
   "outputs": [],
   "source": [
    "for i in range(10):\n",
    "    fol = '/Users/hubatsl/Desktop/SPT/Us/SPT/sample_data/SyntheticData/test'+str(i)+'/'\n",
    "    im = ImageSimulator(np.array([0.2, 0.4]), np.array([100, 100]), aboveBG=550,\n",
    "                        fname='test', folder=fol, lAxis=30, sAxis=27, resolution=0.1, \n",
    "                        timemax=6, varCoeffDet=0.1)\n",
    "    im.create_tracks()\n",
    "    im.create_images()\n",
    "    im.write_images()\n",
    "    im.write_log()"
   ]
  },
  {
   "cell_type": "code",
   "execution_count": null,
   "metadata": {
    "collapsed": false
   },
   "outputs": [],
   "source": [
    "python_simulated = np.ones((10, 1))\n",
    "for i in range(10):\n",
    "    fol = '/Users/hubatsl/Desktop/SPT/Us/SPT/sample_data/SyntheticData/test'+str(i)+'/'\n",
    "    d = DiffusionFitter(fol, 700, parallel=True, pixelSize=0.124, timestep=0.033,\n",
    "                        saveFigs=False, showFigs=False, autoMetaDataExtract=False, featSize=3)\n",
    "    d.analyze()\n",
    "    python_simulated[i] = d.D_restricted"
   ]
  },
  {
   "cell_type": "code",
   "execution_count": null,
   "metadata": {
    "collapsed": false
   },
   "outputs": [],
   "source": [
    "d.showFigs = True\n",
    "d.plot_calibration()\n",
    "d.plot_diffusion_vs_alpha()\n",
    "d.D_restricted"
   ]
  },
  {
   "cell_type": "code",
   "execution_count": null,
   "metadata": {
    "collapsed": false
   },
   "outputs": [],
   "source": [
    "matlab_simulated = np.ones((10, 1))\n",
    "for i in range(10):\n",
    "    fol= '/Users/hubatsl/Desktop/SPT/Us/SPT/sample_data/SyntheticData/MatlabSample/'+str(i+1)+'/'\n",
    "    d = DiffusionFitter(fol, 700, featSize=3, parallel=True, pixelSize=0.124, timestep=0.033,\n",
    "                        saveFigs=False, showFigs=False, autoMetaDataExtract=False)\n",
    "    d.analyze()\n",
    "    matlab_simulated[i] = d.D_restricted"
   ]
  },
  {
   "cell_type": "code",
   "execution_count": null,
   "metadata": {
    "collapsed": false
   },
   "outputs": [],
   "source": [
    "d.showFigs = True\n",
    "d.plot_calibration()\n",
    "d.plot_diffusion_vs_alpha()\n",
    "d.D_restricted"
   ]
  },
  {
   "cell_type": "code",
   "execution_count": null,
   "metadata": {
    "collapsed": false
   },
   "outputs": [],
   "source": [
    "print('Python mean = ' + str(python_simulated.mean()))\n",
    "print('Matlab mean = ' + str(matlab_simulated.mean()))\n",
    "print('Python STD = ' + str(python_simulated.std()))\n",
    "print('Matlab STD = ' + str(matlab_simulated.std()))\n",
    "print('Two sample Kolmogorov Smirnov p-value: ' +\n",
    "      str(stats.ks_2samp(python_simulated.flatten(), matlab_simulated.flatten())))"
   ]
  },
  {
   "cell_type": "code",
   "execution_count": null,
   "metadata": {
    "collapsed": false
   },
   "outputs": [],
   "source": [
    "print(matlab_simulated)\n",
    "print(python_simulated)"
   ]
  },
  {
   "cell_type": "code",
   "execution_count": null,
   "metadata": {
    "collapsed": true
   },
   "outputs": [],
   "source": []
  }
 ],
 "metadata": {
  "anaconda-cloud": {},
  "kernelspec": {
   "display_name": "Python [python3Conda]",
   "language": "python",
   "name": "Python [python3Conda]"
  },
  "language_info": {
   "codemirror_mode": {
    "name": "ipython",
    "version": 3
   },
   "file_extension": ".py",
   "mimetype": "text/x-python",
   "name": "python",
   "nbconvert_exporter": "python",
   "pygments_lexer": "ipython3",
   "version": "3.5.2"
  }
 },
 "nbformat": 4,
 "nbformat_minor": 0
}
