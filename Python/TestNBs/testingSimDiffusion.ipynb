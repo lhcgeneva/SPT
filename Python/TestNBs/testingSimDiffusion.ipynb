{
 "cells": [
  {
   "cell_type": "code",
   "execution_count": null,
   "metadata": {
    "collapsed": false
   },
   "outputs": [],
   "source": [
    "%qtconsole"
   ]
  },
  {
   "cell_type": "code",
   "execution_count": null,
   "metadata": {
    "collapsed": false
   },
   "outputs": [],
   "source": [
    "import sys\n",
    "sys.path.append('/Users/hubatsl/Desktop/SPT/Us/SPT/Python/src')\n",
    "\n",
    "import bisect\n",
    "from IPython.core.debugger import Tracer\n",
    "import itertools\n",
    "import matplotlib.pyplot as plt\n",
    "from MovieTracks import DiffusionFitter\n",
    "from multiprocessing import Pool\n",
    "from numba import jit\n",
    "import numpy as np\n",
    "import scipy.stats as stats\n",
    "from SimDiffusion import ImageSimulator, sum_gaussians\n",
    "import tifffile\n",
    "import time\n",
    "import scipy.stats\n",
    "%matplotlib inline"
   ]
  },
  {
   "cell_type": "markdown",
   "metadata": {
    "collapsed": true
   },
   "source": [
    "**Identifiying different diffusive species**\n",
    "In order to distinguish between differently diffusive species I try to compare between experiments like this: "
   ]
  },
  {
   "cell_type": "code",
   "execution_count": null,
   "metadata": {
    "collapsed": false
   },
   "outputs": [],
   "source": [
    "a = np.ones((10, 1))\n",
    "for i in range(10):\n",
    "    file = '/Users/hubatsl/Desktop/SPT/Us/SPT/sample_data/SyntheticData/test1'\n",
    "    im = ImageSimulator(np.array([0.2, 0.4]), np.array([100, 100]), fname=file+'/test',timemax=6)\n",
    "    im.create_images()\n",
    "    im.write_images()\n",
    "    im.write_log()\n",
    "    d = DiffusionFitter(file, 700, parallel=True, pixelSize=0.124, timestep=0.033,\n",
    "                        saveFigs=False, showFigs=False, autoMetaDataExtract=False)\n",
    "    d.analyze()\n",
    "    a[i] = d.D_restricted"
   ]
  },
  {
   "cell_type": "code",
   "execution_count": null,
   "metadata": {
    "collapsed": false
   },
   "outputs": [],
   "source": [
    "a.std()"
   ]
  },
  {
   "cell_type": "code",
   "execution_count": null,
   "metadata": {
    "collapsed": false
   },
   "outputs": [],
   "source": [
    "0.319/0.316"
   ]
  },
  {
   "cell_type": "code",
   "execution_count": null,
   "metadata": {
    "collapsed": false
   },
   "outputs": [],
   "source": [
    "d = DiffusionFitter(file, 700, parallel=True, pixelSize=0.124, timestep=0.033,\n",
    "                    saveFigs=False, showFigs=False, autoMetaDataExtract=False)\n",
    "d.analyze()"
   ]
  },
  {
   "cell_type": "code",
   "execution_count": null,
   "metadata": {
    "collapsed": false
   },
   "outputs": [],
   "source": [
    "d.showFigs = True\n",
    "d.plot_calibration()\n",
    "d.plot_diffusion_vs_alpha()\n",
    "plt.figure(); plt.hist(d.D,50)\n",
    "plt.figure(); plt.hist(d.a, 25)\n",
    "d.D_restricted"
   ]
  },
  {
   "cell_type": "code",
   "execution_count": null,
   "metadata": {
    "collapsed": false
   },
   "outputs": [],
   "source": [
    "b = np.ones((10, 1))\n",
    "for i in range(10):\n",
    "    fol= '/Users/hubatsl/Desktop/SPT/Us/SPT/sample_data/SyntheticData/MatlabSample/'+str(i+1)+'/'\n",
    "    d = DiffusionFitter(fol, 700, parallel=True, pixelSize=0.124, timestep=0.033,\n",
    "                        saveFigs=False, showFigs=False, autoMetaDataExtract=False)\n",
    "    d.analyze()\n",
    "    b[i] = d.D_restricted"
   ]
  },
  {
   "cell_type": "code",
   "execution_count": null,
   "metadata": {
    "collapsed": false
   },
   "outputs": [],
   "source": [
    "b.std()\n",
    "print(b)\n",
    "print(a)\n",
    "scipy.stats.ks_2samp(b.flatten(), a.flatten())"
   ]
  },
  {
   "cell_type": "code",
   "execution_count": null,
   "metadata": {
    "collapsed": false
   },
   "outputs": [],
   "source": [
    "b.flatten()"
   ]
  },
  {
   "cell_type": "code",
   "execution_count": null,
   "metadata": {
    "collapsed": false
   },
   "outputs": [],
   "source": [
    "n1 = 200  # size of first sample\n",
    "n2 = 300  # size of first sample\n",
    "rvs1 = stats.norm.rvs(size=n1, loc=0., scale=1)\n",
    "rvs2 = stats.norm.rvs(size=n2, loc=0.5, scale=1.5)\n",
    "stats.ks_2samp(rvs1, rvs2)\n",
    "rvs1"
   ]
  },
  {
   "cell_type": "code",
   "execution_count": null,
   "metadata": {
    "collapsed": false
   },
   "outputs": [],
   "source": [
    "d.showFigs = True\n",
    "d.plot_calibration()\n",
    "d.plot_diffusion_vs_alpha()\n",
    "plt.figure(); plt.hist(d.D,50)\n",
    "plt.figure(); plt.hist(d.a, 25)\n",
    "d.D_restricted"
   ]
  },
  {
   "cell_type": "code",
   "execution_count": null,
   "metadata": {
    "collapsed": false
   },
   "outputs": [],
   "source": [
    "plt.plot(np.logspace(0.001, 6, 20, base=4)/10000)"
   ]
  }
 ],
 "metadata": {
  "anaconda-cloud": {},
  "kernelspec": {
   "display_name": "Python [python3Conda]",
   "language": "python",
   "name": "Python [python3Conda]"
  },
  "language_info": {
   "codemirror_mode": {
    "name": "ipython",
    "version": 3
   },
   "file_extension": ".py",
   "mimetype": "text/x-python",
   "name": "python",
   "nbconvert_exporter": "python",
   "pygments_lexer": "ipython3",
   "version": "3.5.2"
  }
 },
 "nbformat": 4,
 "nbformat_minor": 0
}
