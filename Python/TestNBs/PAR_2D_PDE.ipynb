{
 "cells": [
  {
   "cell_type": "markdown",
   "metadata": {},
   "source": [
    "# Simulate PAR-network via deterministic PDE system"
   ]
  },
  {
   "cell_type": "code",
   "execution_count": null,
   "metadata": {
    "collapsed": true
   },
   "outputs": [],
   "source": [
    "import numpy as np\n",
    "import matplotlib.pyplot as plt\n",
    "%matplotlib inline\n",
    "a = 0.15\n",
    "b = 0.15\n",
    "koffA = 0.005\n",
    "koffB = 0.005\n",
    "konA = 0.006\n",
    "konB = 0.006\n",
    "kap = 1\n",
    "kpa = 1\n",
    "alpha = 2\n",
    "beta = 2\n",
    "size = 100  # size of the 2D grid\n",
    "dx = 2./size  # space step\n",
    "T = 20.0  # total time\n",
    "dt = .9 * dx**2/2  # time step\n",
    "n = int(T/dt)\n",
    "A = np.ones((size, size))\n",
    "P = np.ones((size, size))\n",
    "A[:, int(np.round(size/2))+1:-1] = 0\n",
    "P[:, 1:int(np.round(size/2))] = 0\n",
    "Atot = 2*np.sum(A)\n",
    "Btot = 2*np.sum(P)\n",
    "def laplacian(Z):\n",
    "    Ztop = Z[0:-2,1:-1]\n",
    "    Zleft = Z[1:-1,0:-2]\n",
    "    Zbottom = Z[2:,1:-1]\n",
    "    Zright = Z[1:-1,2:]\n",
    "    Zcenter = Z[1:-1,1:-1]\n",
    "    return (Ztop + Zleft + Zbottom + Zright - 4 * Zcenter) / dx**2\n",
    "# We simulate the PDE with the finite difference method.\n",
    "for i in range(n):\n",
    "    # We compute the Laplacian of u and P.\n",
    "    deltaA = laplacian(A)\n",
    "    deltaP = laplacian(P)\n",
    "    # We take the Palues of u and P inside the grid.\n",
    "    Ac = A[1:-1,1:-1]\n",
    "    Pc = P[1:-1,1:-1]\n",
    "    Acyto = Atot - np.sum(Ac)\n",
    "    Bcyto = Btot - np.sum(Pc)\n",
    "    # We update the Pariables.\n",
    "    A[1:-1,1:-1] = Ac + dt * (a * deltaA - koffA*Ac + konA*Acyto - kap*A[1:-1,1:-1]*P[1:-1,1:-1]**alpha)\n",
    "    P[1:-1,1:-1] = Pc + dt * (b * deltaP - koffB*Pc + konB*Bcyto - kpa*A[1:-1,1:-1]**beta*P[1:-1,1:-1])\n",
    "    \n",
    "    # Neumann conditions: deriPatiPes at the edges\n",
    "    # are null.\n",
    "    for Z in (A, P):\n",
    "        Z[0,:] = Z[1,:]\n",
    "        Z[-1,:] = Z[-2,:]\n",
    "        Z[:,0] = Z[:,1]\n",
    "        Z[:,-1] = Z[:,-2]"
   ]
  },
  {
   "cell_type": "code",
   "execution_count": null,
   "metadata": {
    "collapsed": false
   },
   "outputs": [],
   "source": [
    "fig, axs = plt.subplots(1,2)\n",
    "axs[0].imshow(A, cmap=plt.cm.copper, extent=[-1,1,-1,1]);\n",
    "axs[1].imshow(P, cmap=plt.cm.copper, extent=[-1,1,-1,1]);"
   ]
  }
 ],
 "metadata": {
  "anaconda-cloud": {},
  "kernelspec": {
   "display_name": "Python [python3Conda]",
   "language": "python",
   "name": "Python [python3Conda]"
  },
  "language_info": {
   "codemirror_mode": {
    "name": "ipython",
    "version": 3
   },
   "file_extension": ".py",
   "mimetype": "text/x-python",
   "name": "python",
   "nbconvert_exporter": "python",
   "pygments_lexer": "ipython3",
   "version": "3.5.2"
  }
 },
 "nbformat": 4,
 "nbformat_minor": 0
}
