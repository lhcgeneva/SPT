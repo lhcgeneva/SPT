{
 "cells": [
  {
   "cell_type": "markdown",
   "metadata": {},
   "source": [
    "# Kinetics estimation for PAR-6\n",
    "**Idea:** \n",
    "1. simulate images of different particle species (different Ds, different spread of Ds), analyse diffusive behavior (D vs a)\n",
    "2. experimentally determine D vs a for different exposure and lag times\n",
    "3. combine different species from 1., compare to data from 2., see which combinations fit best"
   ]
  },
  {
   "cell_type": "code",
   "execution_count": null,
   "metadata": {
    "collapsed": false
   },
   "outputs": [],
   "source": [
    "import matplotlib\n",
    "%matplotlib inline\n",
    "matplotlib.rcParams['figure.figsize'] = (20.0, 10.0)\n",
    "import matplotlib.pyplot as plt\n",
    "import numpy as np\n",
    "import os\n",
    "import pandas as pd\n",
    "import scipy.stats as stats\n",
    "import sys\n",
    "# Plotting becomes part of the notebook\n",
    "# Add path to python modules\n",
    "sys.path.append(os.getcwd()[0:-7]+'src/')\n",
    "from MovieTracks import DiffusionFitter\n",
    "from SimDiffusion import ImageSimulator"
   ]
  },
  {
   "cell_type": "markdown",
   "metadata": {},
   "source": [
    "## 1. Simulate images, analyse"
   ]
  },
  {
   "cell_type": "code",
   "execution_count": null,
   "metadata": {
    "collapsed": true
   },
   "outputs": [],
   "source": [
    "python_simulated = np.ones((10, 1))\n",
    "diff_coeffs = np.logspace(-2, -0.7, num=10)\n",
    "num_part = np.array([300])\n",
    "for i, D in enumerate(diff_coeffs):\n",
    "    fol = '/Users/hubatsl/Desktop/SPT/Us/SPT/sample_data/SyntheticData/test'+str(i)+'/'\n",
    "    im = ImageSimulator(D, num_part, fname='test'+str(i), folder=fol, timemax=6)\n",
    "    im.create_images()\n",
    "    im.write_images()\n",
    "    im.write_log()\n",
    "    fitter_instance = DiffusionFitter(fol, 700, parallel=True, pixelSize=0.124,\n",
    "                                      timestep=0.033, saveFigs=False, showFigs=False,\n",
    "                                      autoMetaDataExtract=False)\n",
    "    fitter_instance.analyze()"
   ]
  },
  {
   "cell_type": "code",
   "execution_count": null,
   "metadata": {
    "collapsed": false
   },
   "outputs": [],
   "source": [
    "\n",
    "diff_coeffs = np.logspace(-2, -0.7, num=10)\n",
    "df = []\n",
    "for i, D in enumerate(diff_coeffs):\n",
    "    file = ('/Users/hubatsl/Desktop/SPT/Us/SPT/sample_data/SyntheticData/test'+str(i)+\n",
    "            '/Particle_D_a_secondhalf.csv')\n",
    "    df.append(pd.read_csv(file))"
   ]
  },
  {
   "cell_type": "code",
   "execution_count": null,
   "metadata": {
    "collapsed": false
   },
   "outputs": [],
   "source": [
    "for dataframe in df[0:-1]:\n",
    "    plt.hist(dataframe['a'], normed=1, alpha=0.6);\n",
    "plt.figure()\n",
    "for dataframe in df[0:-1]:\n",
    "    plt.hist(dataframe['D'], normed=1, alpha=0.6);"
   ]
  }
 ],
 "metadata": {
  "anaconda-cloud": {},
  "kernelspec": {
   "display_name": "Python [python3Conda]",
   "language": "python",
   "name": "Python [python3Conda]"
  },
  "language_info": {
   "codemirror_mode": {
    "name": "ipython",
    "version": 3
   },
   "file_extension": ".py",
   "mimetype": "text/x-python",
   "name": "python",
   "nbconvert_exporter": "python",
   "pygments_lexer": "ipython3",
   "version": "3.5.2"
  }
 },
 "nbformat": 4,
 "nbformat_minor": 0
}
